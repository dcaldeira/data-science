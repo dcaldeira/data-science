{
 "cells": [
  {
   "cell_type": "markdown",
   "metadata": {},
   "source": [
    "## Descubra as melhores notas de matemática do ENEM 2016\n",
    "Você deverá criar um modelo para prever a nota da prova de matemática de quem participou do ENEM 2016."
   ]
  },
  {
   "cell_type": "markdown",
   "metadata": {},
   "source": [
    "## Detalhes \n",
    "\n",
    "O contexto do desafio gira em torno dos resultados do ENEM 2016 (disponíveis no arquivo train.csv). Este arquivo, e apenas ele, deve ser utilizado para todos os desafios. Qualquer dúvida a respeito das colunas, consulte o Dicionário dos Microdados do Enem 2016.\n",
    "\n",
    "Muitas universidades brasileiras utilizam o ENEM para selecionar seus futuros alunos e alunas. Isto é feito com uma média ponderada das notas das provas de matemática, ciências da natureza, linguagens e códigos, ciências humanas e redação, com os pesos abaixo:\n",
    "   \n",
    "    .matemática: 3 \n",
    "    .ciências da natureza: 2 \n",
    "    .linguagens e códigos: 1.5\n",
    "    .ciências humanas: 1\n",
    "    .redação: 3\n",
    "\n",
    "No arquivo test.csv crie um modelo para prever nota da prova de matemática (coluna NU_NOTA_MT) de quem participou do ENEM 2016.\n",
    "Salve sua resposta em um arquivo chamado answer.csv com duas colunas: NU_INSCRICAO e NU_NOTA_MT.\n",
    "\n",
    "Faça o upload do arquivo answer.csv usando o botão “Submeter resposta”.\n",
    "\n",
    "<b>Observações</b>\n",
    "\n",
    "O objetivo do desafio é avaliar a sua capacidade de resolver problemas, então ele pode ser resolvido em qualquer linguagem de programação ou ferramenta que você tenha facilidade. Mas recomendamos o uso de linguagens com maior ferramental de matemática e estatística como Python, R, Scala ou Julia."
   ]
  },
  {
   "cell_type": "code",
   "execution_count": 1,
   "metadata": {},
   "outputs": [],
   "source": [
    "import pandas as pd\n",
    "import numpy as np\n",
    "import matplotlib.pyplot as plt \n",
    "import seaborn as sns\n",
    "%matplotlib inline \n",
    "\n",
    "import statsmodels.api as sm  \n",
    "import statsmodels.formula.api as smf\n",
    "from scipy import stats\n",
    "\n",
    "import warnings\n",
    "warnings.filterwarnings(\"ignore\")"
   ]
  },
  {
   "cell_type": "code",
   "execution_count": 2,
   "metadata": {},
   "outputs": [
    {
     "data": {
      "text/plain": [
       "(13730, 167)"
      ]
     },
     "execution_count": 2,
     "metadata": {},
     "output_type": "execute_result"
    }
   ],
   "source": [
    "train = pd.read_csv('data/train.csv', index_col = None)\n",
    "train.rename(str.lower, axis='columns', inplace=True)\n",
    "train.shape"
   ]
  },
  {
   "cell_type": "markdown",
   "metadata": {},
   "source": [
    "## Data preprocessing"
   ]
  },
  {
   "cell_type": "code",
   "execution_count": 3,
   "metadata": {},
   "outputs": [
    {
     "name": "stdout",
     "output_type": "stream",
     "text": [
      "<class 'pandas.core.frame.DataFrame'>\n",
      "RangeIndex: 13730 entries, 0 to 13729\n",
      "Columns: 167 entries, unnamed: 0 to q050\n",
      "dtypes: float64(28), int64(79), object(60)\n",
      "memory usage: 17.5+ MB\n"
     ]
    }
   ],
   "source": [
    "train.info()"
   ]
  },
  {
   "cell_type": "code",
   "execution_count": 4,
   "metadata": {},
   "outputs": [
    {
     "data": {
      "text/plain": [
       "(13730, 166)"
      ]
     },
     "execution_count": 4,
     "metadata": {},
     "output_type": "execute_result"
    }
   ],
   "source": [
    "train.drop('unnamed: 0', axis=1, inplace=True)\n",
    "train.shape"
   ]
  },
  {
   "cell_type": "code",
   "execution_count": 5,
   "metadata": {},
   "outputs": [
    {
     "data": {
      "text/plain": [
       "10102"
      ]
     },
     "execution_count": 5,
     "metadata": {},
     "output_type": "execute_result"
    }
   ],
   "source": [
    "# Como vou analisar as respostas dos alunos, faz sentido analisar apenas dados de alunos que compareceram em todas as provas e que não foram\n",
    "# desclassificados por algum motivo\n",
    "\n",
    "train['presenca_total'] = np.where((train['tp_presenca_cn'] +\n",
    "                                    train['tp_presenca_ch'] +\n",
    "                                    train['tp_presenca_lc'] +\n",
    "                                    train['tp_presenca_mt']                                                                   \n",
    "                                   ) == 4,1,0)\n",
    "train['presenca_total'].sum()"
   ]
  },
  {
   "cell_type": "code",
   "execution_count": 6,
   "metadata": {},
   "outputs": [],
   "source": [
    "mask = train['presenca_total']==1\n",
    "train = train[mask]\n",
    "train.drop('presenca_total', axis=1, inplace=True)"
   ]
  },
  {
   "cell_type": "code",
   "execution_count": 7,
   "metadata": {},
   "outputs": [],
   "source": [
    "def missing_data_count(dataFrame, decimal=2):\n",
    "    \n",
    "    '''\n",
    "    Função que conta a quantidade de valores faltantes no dataframe e\n",
    "    mostra o percentual em relacão ao todo.\n",
    "    '''\n",
    "    \n",
    "    total = dataFrame.isnull().sum().sort_values(ascending=False)\n",
    "    p_1 = dataFrame.isnull().sum()/dataFrame.isnull().count()*100\n",
    "    p_2 = (round(p_1, decimal)).sort_values(ascending=False)\n",
    "\n",
    "    missing_data = pd.concat([total, p_2], axis=1, keys=['Total', '%'])\n",
    "    missing_data.reset_index(inplace=True)\n",
    "\n",
    "    mask = (missing_data['%'] > 0)\n",
    "    missing_data = missing_data[mask]\n",
    "    \n",
    "    \n",
    "    return missing_data.sort_values('%', ascending=False)"
   ]
  },
  {
   "cell_type": "code",
   "execution_count": 8,
   "metadata": {},
   "outputs": [
    {
     "data": {
      "text/html": [
       "<div>\n",
       "<style scoped>\n",
       "    .dataframe tbody tr th:only-of-type {\n",
       "        vertical-align: middle;\n",
       "    }\n",
       "\n",
       "    .dataframe tbody tr th {\n",
       "        vertical-align: top;\n",
       "    }\n",
       "\n",
       "    .dataframe thead th {\n",
       "        text-align: right;\n",
       "    }\n",
       "</style>\n",
       "<table border=\"1\" class=\"dataframe\">\n",
       "  <thead>\n",
       "    <tr style=\"text-align: right;\">\n",
       "      <th></th>\n",
       "      <th>index</th>\n",
       "      <th>Total</th>\n",
       "      <th>%</th>\n",
       "    </tr>\n",
       "  </thead>\n",
       "  <tbody>\n",
       "    <tr>\n",
       "      <th>0</th>\n",
       "      <td>co_uf_entidade_certificacao</td>\n",
       "      <td>9092</td>\n",
       "      <td>90.00</td>\n",
       "    </tr>\n",
       "    <tr>\n",
       "      <th>2</th>\n",
       "      <td>sg_uf_entidade_certificacao</td>\n",
       "      <td>9092</td>\n",
       "      <td>90.00</td>\n",
       "    </tr>\n",
       "    <tr>\n",
       "      <th>1</th>\n",
       "      <td>no_entidade_certificacao</td>\n",
       "      <td>9092</td>\n",
       "      <td>90.00</td>\n",
       "    </tr>\n",
       "    <tr>\n",
       "      <th>3</th>\n",
       "      <td>q041</td>\n",
       "      <td>8243</td>\n",
       "      <td>81.60</td>\n",
       "    </tr>\n",
       "    <tr>\n",
       "      <th>8</th>\n",
       "      <td>no_municipio_esc</td>\n",
       "      <td>6472</td>\n",
       "      <td>64.07</td>\n",
       "    </tr>\n",
       "    <tr>\n",
       "      <th>12</th>\n",
       "      <td>tp_dependencia_adm_esc</td>\n",
       "      <td>6472</td>\n",
       "      <td>64.07</td>\n",
       "    </tr>\n",
       "    <tr>\n",
       "      <th>11</th>\n",
       "      <td>tp_ensino</td>\n",
       "      <td>6472</td>\n",
       "      <td>64.07</td>\n",
       "    </tr>\n",
       "    <tr>\n",
       "      <th>9</th>\n",
       "      <td>co_municipio_esc</td>\n",
       "      <td>6472</td>\n",
       "      <td>64.07</td>\n",
       "    </tr>\n",
       "    <tr>\n",
       "      <th>10</th>\n",
       "      <td>co_escola</td>\n",
       "      <td>6472</td>\n",
       "      <td>64.07</td>\n",
       "    </tr>\n",
       "    <tr>\n",
       "      <th>7</th>\n",
       "      <td>co_uf_esc</td>\n",
       "      <td>6472</td>\n",
       "      <td>64.07</td>\n",
       "    </tr>\n",
       "    <tr>\n",
       "      <th>6</th>\n",
       "      <td>sg_uf_esc</td>\n",
       "      <td>6472</td>\n",
       "      <td>64.07</td>\n",
       "    </tr>\n",
       "    <tr>\n",
       "      <th>5</th>\n",
       "      <td>tp_localizacao_esc</td>\n",
       "      <td>6472</td>\n",
       "      <td>64.07</td>\n",
       "    </tr>\n",
       "    <tr>\n",
       "      <th>4</th>\n",
       "      <td>tp_sit_func_esc</td>\n",
       "      <td>6472</td>\n",
       "      <td>64.07</td>\n",
       "    </tr>\n",
       "    <tr>\n",
       "      <th>13</th>\n",
       "      <td>q028</td>\n",
       "      <td>6111</td>\n",
       "      <td>60.49</td>\n",
       "    </tr>\n",
       "    <tr>\n",
       "      <th>14</th>\n",
       "      <td>q033</td>\n",
       "      <td>6111</td>\n",
       "      <td>60.49</td>\n",
       "    </tr>\n",
       "    <tr>\n",
       "      <th>15</th>\n",
       "      <td>q032</td>\n",
       "      <td>6111</td>\n",
       "      <td>60.49</td>\n",
       "    </tr>\n",
       "    <tr>\n",
       "      <th>16</th>\n",
       "      <td>q031</td>\n",
       "      <td>6111</td>\n",
       "      <td>60.49</td>\n",
       "    </tr>\n",
       "    <tr>\n",
       "      <th>17</th>\n",
       "      <td>q029</td>\n",
       "      <td>6110</td>\n",
       "      <td>60.48</td>\n",
       "    </tr>\n",
       "    <tr>\n",
       "      <th>18</th>\n",
       "      <td>q030</td>\n",
       "      <td>6110</td>\n",
       "      <td>60.48</td>\n",
       "    </tr>\n",
       "    <tr>\n",
       "      <th>19</th>\n",
       "      <td>q027</td>\n",
       "      <td>6109</td>\n",
       "      <td>60.47</td>\n",
       "    </tr>\n",
       "    <tr>\n",
       "      <th>23</th>\n",
       "      <td>co_uf_nascimento</td>\n",
       "      <td>410</td>\n",
       "      <td>4.06</td>\n",
       "    </tr>\n",
       "    <tr>\n",
       "      <th>22</th>\n",
       "      <td>sg_uf_nascimento</td>\n",
       "      <td>410</td>\n",
       "      <td>4.06</td>\n",
       "    </tr>\n",
       "    <tr>\n",
       "      <th>21</th>\n",
       "      <td>co_municipio_nascimento</td>\n",
       "      <td>410</td>\n",
       "      <td>4.06</td>\n",
       "    </tr>\n",
       "    <tr>\n",
       "      <th>20</th>\n",
       "      <td>no_municipio_nascimento</td>\n",
       "      <td>410</td>\n",
       "      <td>4.06</td>\n",
       "    </tr>\n",
       "    <tr>\n",
       "      <th>24</th>\n",
       "      <td>tp_estado_civil</td>\n",
       "      <td>316</td>\n",
       "      <td>3.13</td>\n",
       "    </tr>\n",
       "    <tr>\n",
       "      <th>34</th>\n",
       "      <td>tx_gabarito_cn</td>\n",
       "      <td>5</td>\n",
       "      <td>0.05</td>\n",
       "    </tr>\n",
       "    <tr>\n",
       "      <th>42</th>\n",
       "      <td>nu_nota_lc</td>\n",
       "      <td>5</td>\n",
       "      <td>0.05</td>\n",
       "    </tr>\n",
       "    <tr>\n",
       "      <th>41</th>\n",
       "      <td>nu_nota_comp5</td>\n",
       "      <td>5</td>\n",
       "      <td>0.05</td>\n",
       "    </tr>\n",
       "    <tr>\n",
       "      <th>40</th>\n",
       "      <td>nu_nota_mt</td>\n",
       "      <td>5</td>\n",
       "      <td>0.05</td>\n",
       "    </tr>\n",
       "    <tr>\n",
       "      <th>39</th>\n",
       "      <td>tx_respostas_cn</td>\n",
       "      <td>5</td>\n",
       "      <td>0.05</td>\n",
       "    </tr>\n",
       "    <tr>\n",
       "      <th>38</th>\n",
       "      <td>tx_respostas_ch</td>\n",
       "      <td>5</td>\n",
       "      <td>0.05</td>\n",
       "    </tr>\n",
       "    <tr>\n",
       "      <th>37</th>\n",
       "      <td>nu_nota_redacao</td>\n",
       "      <td>5</td>\n",
       "      <td>0.05</td>\n",
       "    </tr>\n",
       "    <tr>\n",
       "      <th>36</th>\n",
       "      <td>tx_respostas_mt</td>\n",
       "      <td>5</td>\n",
       "      <td>0.05</td>\n",
       "    </tr>\n",
       "    <tr>\n",
       "      <th>35</th>\n",
       "      <td>nu_nota_cn</td>\n",
       "      <td>5</td>\n",
       "      <td>0.05</td>\n",
       "    </tr>\n",
       "    <tr>\n",
       "      <th>33</th>\n",
       "      <td>tx_gabarito_ch</td>\n",
       "      <td>5</td>\n",
       "      <td>0.05</td>\n",
       "    </tr>\n",
       "    <tr>\n",
       "      <th>32</th>\n",
       "      <td>tx_respostas_lc</td>\n",
       "      <td>5</td>\n",
       "      <td>0.05</td>\n",
       "    </tr>\n",
       "    <tr>\n",
       "      <th>31</th>\n",
       "      <td>tx_gabarito_mt</td>\n",
       "      <td>5</td>\n",
       "      <td>0.05</td>\n",
       "    </tr>\n",
       "    <tr>\n",
       "      <th>30</th>\n",
       "      <td>tp_status_redacao</td>\n",
       "      <td>5</td>\n",
       "      <td>0.05</td>\n",
       "    </tr>\n",
       "    <tr>\n",
       "      <th>29</th>\n",
       "      <td>nu_nota_comp1</td>\n",
       "      <td>5</td>\n",
       "      <td>0.05</td>\n",
       "    </tr>\n",
       "    <tr>\n",
       "      <th>28</th>\n",
       "      <td>nu_nota_comp2</td>\n",
       "      <td>5</td>\n",
       "      <td>0.05</td>\n",
       "    </tr>\n",
       "    <tr>\n",
       "      <th>27</th>\n",
       "      <td>nu_nota_comp3</td>\n",
       "      <td>5</td>\n",
       "      <td>0.05</td>\n",
       "    </tr>\n",
       "    <tr>\n",
       "      <th>26</th>\n",
       "      <td>nu_nota_comp4</td>\n",
       "      <td>5</td>\n",
       "      <td>0.05</td>\n",
       "    </tr>\n",
       "    <tr>\n",
       "      <th>25</th>\n",
       "      <td>tx_gabarito_lc</td>\n",
       "      <td>5</td>\n",
       "      <td>0.05</td>\n",
       "    </tr>\n",
       "    <tr>\n",
       "      <th>43</th>\n",
       "      <td>nu_nota_ch</td>\n",
       "      <td>5</td>\n",
       "      <td>0.05</td>\n",
       "    </tr>\n",
       "  </tbody>\n",
       "</table>\n",
       "</div>"
      ],
      "text/plain": [
       "                          index  Total      %\n",
       "0   co_uf_entidade_certificacao   9092  90.00\n",
       "2   sg_uf_entidade_certificacao   9092  90.00\n",
       "1      no_entidade_certificacao   9092  90.00\n",
       "3                          q041   8243  81.60\n",
       "8              no_municipio_esc   6472  64.07\n",
       "12       tp_dependencia_adm_esc   6472  64.07\n",
       "11                    tp_ensino   6472  64.07\n",
       "9              co_municipio_esc   6472  64.07\n",
       "10                    co_escola   6472  64.07\n",
       "7                     co_uf_esc   6472  64.07\n",
       "6                     sg_uf_esc   6472  64.07\n",
       "5            tp_localizacao_esc   6472  64.07\n",
       "4               tp_sit_func_esc   6472  64.07\n",
       "13                         q028   6111  60.49\n",
       "14                         q033   6111  60.49\n",
       "15                         q032   6111  60.49\n",
       "16                         q031   6111  60.49\n",
       "17                         q029   6110  60.48\n",
       "18                         q030   6110  60.48\n",
       "19                         q027   6109  60.47\n",
       "23             co_uf_nascimento    410   4.06\n",
       "22             sg_uf_nascimento    410   4.06\n",
       "21      co_municipio_nascimento    410   4.06\n",
       "20      no_municipio_nascimento    410   4.06\n",
       "24              tp_estado_civil    316   3.13\n",
       "34               tx_gabarito_cn      5   0.05\n",
       "42                   nu_nota_lc      5   0.05\n",
       "41                nu_nota_comp5      5   0.05\n",
       "40                   nu_nota_mt      5   0.05\n",
       "39              tx_respostas_cn      5   0.05\n",
       "38              tx_respostas_ch      5   0.05\n",
       "37              nu_nota_redacao      5   0.05\n",
       "36              tx_respostas_mt      5   0.05\n",
       "35                   nu_nota_cn      5   0.05\n",
       "33               tx_gabarito_ch      5   0.05\n",
       "32              tx_respostas_lc      5   0.05\n",
       "31               tx_gabarito_mt      5   0.05\n",
       "30            tp_status_redacao      5   0.05\n",
       "29                nu_nota_comp1      5   0.05\n",
       "28                nu_nota_comp2      5   0.05\n",
       "27                nu_nota_comp3      5   0.05\n",
       "26                nu_nota_comp4      5   0.05\n",
       "25               tx_gabarito_lc      5   0.05\n",
       "43                   nu_nota_ch      5   0.05"
      ]
     },
     "execution_count": 8,
     "metadata": {},
     "output_type": "execute_result"
    }
   ],
   "source": [
    "# Analisando a qualidade do dataframe\n",
    "missing_data_count(train)"
   ]
  },
  {
   "cell_type": "markdown",
   "metadata": {},
   "source": [
    "Dropar features nunca é o melhor a se fazer, mas neste caso seria arriscado fazer qualquer inferência em relação a estes dados.<br>\n",
    "Por isso decidi dropar as seguintes features. "
   ]
  },
  {
   "cell_type": "code",
   "execution_count": 9,
   "metadata": {},
   "outputs": [
    {
     "data": {
      "text/plain": [
       "(10102, 153)"
      ]
     },
     "execution_count": 9,
     "metadata": {},
     "output_type": "execute_result"
    }
   ],
   "source": [
    "train.drop(['co_uf_entidade_certificacao','no_entidade_certificacao',\n",
    "            'sg_uf_entidade_certificacao', 'q041', 'co_escola', 'co_municipio_esc', 'tp_localizacao_esc',\n",
    "            'tp_dependencia_adm_esc','tp_sit_func_esc','no_municipio_esc', 'tp_ensino',\n",
    "            'no_municipio_nascimento', 'co_municipio_nascimento'           \n",
    "           ], axis=1, inplace=True)\n",
    "train.shape"
   ]
  },
  {
   "cell_type": "code",
   "execution_count": 10,
   "metadata": {},
   "outputs": [
    {
     "data": {
      "text/html": [
       "<div>\n",
       "<style scoped>\n",
       "    .dataframe tbody tr th:only-of-type {\n",
       "        vertical-align: middle;\n",
       "    }\n",
       "\n",
       "    .dataframe tbody tr th {\n",
       "        vertical-align: top;\n",
       "    }\n",
       "\n",
       "    .dataframe thead th {\n",
       "        text-align: right;\n",
       "    }\n",
       "</style>\n",
       "<table border=\"1\" class=\"dataframe\">\n",
       "  <thead>\n",
       "    <tr style=\"text-align: right;\">\n",
       "      <th></th>\n",
       "      <th>index</th>\n",
       "      <th>Total</th>\n",
       "      <th>%</th>\n",
       "    </tr>\n",
       "  </thead>\n",
       "  <tbody>\n",
       "    <tr>\n",
       "      <th>0</th>\n",
       "      <td>sg_uf_esc</td>\n",
       "      <td>6472</td>\n",
       "      <td>64.07</td>\n",
       "    </tr>\n",
       "    <tr>\n",
       "      <th>1</th>\n",
       "      <td>co_uf_esc</td>\n",
       "      <td>6472</td>\n",
       "      <td>64.07</td>\n",
       "    </tr>\n",
       "    <tr>\n",
       "      <th>2</th>\n",
       "      <td>q033</td>\n",
       "      <td>6111</td>\n",
       "      <td>60.49</td>\n",
       "    </tr>\n",
       "    <tr>\n",
       "      <th>3</th>\n",
       "      <td>q028</td>\n",
       "      <td>6111</td>\n",
       "      <td>60.49</td>\n",
       "    </tr>\n",
       "    <tr>\n",
       "      <th>4</th>\n",
       "      <td>q031</td>\n",
       "      <td>6111</td>\n",
       "      <td>60.49</td>\n",
       "    </tr>\n",
       "    <tr>\n",
       "      <th>5</th>\n",
       "      <td>q032</td>\n",
       "      <td>6111</td>\n",
       "      <td>60.49</td>\n",
       "    </tr>\n",
       "    <tr>\n",
       "      <th>6</th>\n",
       "      <td>q029</td>\n",
       "      <td>6110</td>\n",
       "      <td>60.48</td>\n",
       "    </tr>\n",
       "    <tr>\n",
       "      <th>7</th>\n",
       "      <td>q030</td>\n",
       "      <td>6110</td>\n",
       "      <td>60.48</td>\n",
       "    </tr>\n",
       "    <tr>\n",
       "      <th>8</th>\n",
       "      <td>q027</td>\n",
       "      <td>6109</td>\n",
       "      <td>60.47</td>\n",
       "    </tr>\n",
       "    <tr>\n",
       "      <th>10</th>\n",
       "      <td>sg_uf_nascimento</td>\n",
       "      <td>410</td>\n",
       "      <td>4.06</td>\n",
       "    </tr>\n",
       "    <tr>\n",
       "      <th>9</th>\n",
       "      <td>co_uf_nascimento</td>\n",
       "      <td>410</td>\n",
       "      <td>4.06</td>\n",
       "    </tr>\n",
       "    <tr>\n",
       "      <th>11</th>\n",
       "      <td>tp_estado_civil</td>\n",
       "      <td>316</td>\n",
       "      <td>3.13</td>\n",
       "    </tr>\n",
       "    <tr>\n",
       "      <th>21</th>\n",
       "      <td>tx_gabarito_lc</td>\n",
       "      <td>5</td>\n",
       "      <td>0.05</td>\n",
       "    </tr>\n",
       "    <tr>\n",
       "      <th>29</th>\n",
       "      <td>nu_nota_comp4</td>\n",
       "      <td>5</td>\n",
       "      <td>0.05</td>\n",
       "    </tr>\n",
       "    <tr>\n",
       "      <th>28</th>\n",
       "      <td>nu_nota_ch</td>\n",
       "      <td>5</td>\n",
       "      <td>0.05</td>\n",
       "    </tr>\n",
       "    <tr>\n",
       "      <th>27</th>\n",
       "      <td>nu_nota_comp5</td>\n",
       "      <td>5</td>\n",
       "      <td>0.05</td>\n",
       "    </tr>\n",
       "    <tr>\n",
       "      <th>26</th>\n",
       "      <td>nu_nota_redacao</td>\n",
       "      <td>5</td>\n",
       "      <td>0.05</td>\n",
       "    </tr>\n",
       "    <tr>\n",
       "      <th>25</th>\n",
       "      <td>nu_nota_comp2</td>\n",
       "      <td>5</td>\n",
       "      <td>0.05</td>\n",
       "    </tr>\n",
       "    <tr>\n",
       "      <th>24</th>\n",
       "      <td>nu_nota_comp1</td>\n",
       "      <td>5</td>\n",
       "      <td>0.05</td>\n",
       "    </tr>\n",
       "    <tr>\n",
       "      <th>23</th>\n",
       "      <td>tp_status_redacao</td>\n",
       "      <td>5</td>\n",
       "      <td>0.05</td>\n",
       "    </tr>\n",
       "    <tr>\n",
       "      <th>22</th>\n",
       "      <td>tx_gabarito_mt</td>\n",
       "      <td>5</td>\n",
       "      <td>0.05</td>\n",
       "    </tr>\n",
       "    <tr>\n",
       "      <th>15</th>\n",
       "      <td>tx_respostas_ch</td>\n",
       "      <td>5</td>\n",
       "      <td>0.05</td>\n",
       "    </tr>\n",
       "    <tr>\n",
       "      <th>20</th>\n",
       "      <td>tx_gabarito_ch</td>\n",
       "      <td>5</td>\n",
       "      <td>0.05</td>\n",
       "    </tr>\n",
       "    <tr>\n",
       "      <th>19</th>\n",
       "      <td>tx_gabarito_cn</td>\n",
       "      <td>5</td>\n",
       "      <td>0.05</td>\n",
       "    </tr>\n",
       "    <tr>\n",
       "      <th>18</th>\n",
       "      <td>nu_nota_cn</td>\n",
       "      <td>5</td>\n",
       "      <td>0.05</td>\n",
       "    </tr>\n",
       "    <tr>\n",
       "      <th>17</th>\n",
       "      <td>tx_respostas_lc</td>\n",
       "      <td>5</td>\n",
       "      <td>0.05</td>\n",
       "    </tr>\n",
       "    <tr>\n",
       "      <th>16</th>\n",
       "      <td>tx_respostas_mt</td>\n",
       "      <td>5</td>\n",
       "      <td>0.05</td>\n",
       "    </tr>\n",
       "    <tr>\n",
       "      <th>14</th>\n",
       "      <td>tx_respostas_cn</td>\n",
       "      <td>5</td>\n",
       "      <td>0.05</td>\n",
       "    </tr>\n",
       "    <tr>\n",
       "      <th>13</th>\n",
       "      <td>nu_nota_mt</td>\n",
       "      <td>5</td>\n",
       "      <td>0.05</td>\n",
       "    </tr>\n",
       "    <tr>\n",
       "      <th>12</th>\n",
       "      <td>nu_nota_lc</td>\n",
       "      <td>5</td>\n",
       "      <td>0.05</td>\n",
       "    </tr>\n",
       "    <tr>\n",
       "      <th>30</th>\n",
       "      <td>nu_nota_comp3</td>\n",
       "      <td>5</td>\n",
       "      <td>0.05</td>\n",
       "    </tr>\n",
       "  </tbody>\n",
       "</table>\n",
       "</div>"
      ],
      "text/plain": [
       "                index  Total      %\n",
       "0           sg_uf_esc   6472  64.07\n",
       "1           co_uf_esc   6472  64.07\n",
       "2                q033   6111  60.49\n",
       "3                q028   6111  60.49\n",
       "4                q031   6111  60.49\n",
       "5                q032   6111  60.49\n",
       "6                q029   6110  60.48\n",
       "7                q030   6110  60.48\n",
       "8                q027   6109  60.47\n",
       "10   sg_uf_nascimento    410   4.06\n",
       "9    co_uf_nascimento    410   4.06\n",
       "11    tp_estado_civil    316   3.13\n",
       "21     tx_gabarito_lc      5   0.05\n",
       "29      nu_nota_comp4      5   0.05\n",
       "28         nu_nota_ch      5   0.05\n",
       "27      nu_nota_comp5      5   0.05\n",
       "26    nu_nota_redacao      5   0.05\n",
       "25      nu_nota_comp2      5   0.05\n",
       "24      nu_nota_comp1      5   0.05\n",
       "23  tp_status_redacao      5   0.05\n",
       "22     tx_gabarito_mt      5   0.05\n",
       "15    tx_respostas_ch      5   0.05\n",
       "20     tx_gabarito_ch      5   0.05\n",
       "19     tx_gabarito_cn      5   0.05\n",
       "18         nu_nota_cn      5   0.05\n",
       "17    tx_respostas_lc      5   0.05\n",
       "16    tx_respostas_mt      5   0.05\n",
       "14    tx_respostas_cn      5   0.05\n",
       "13         nu_nota_mt      5   0.05\n",
       "12         nu_nota_lc      5   0.05\n",
       "30      nu_nota_comp3      5   0.05"
      ]
     },
     "execution_count": 10,
     "metadata": {},
     "output_type": "execute_result"
    }
   ],
   "source": [
    "# Agora temos as features que teremos que trabalhar para arrumar os dados faltantes\n",
    "missing_data_count(train)"
   ]
  },
  {
   "cell_type": "code",
   "execution_count": 11,
   "metadata": {},
   "outputs": [
    {
     "data": {
      "text/html": [
       "<div>\n",
       "<style scoped>\n",
       "    .dataframe tbody tr th:only-of-type {\n",
       "        vertical-align: middle;\n",
       "    }\n",
       "\n",
       "    .dataframe tbody tr th {\n",
       "        vertical-align: top;\n",
       "    }\n",
       "\n",
       "    .dataframe thead th {\n",
       "        text-align: right;\n",
       "    }\n",
       "</style>\n",
       "<table border=\"1\" class=\"dataframe\">\n",
       "  <thead>\n",
       "    <tr style=\"text-align: right;\">\n",
       "      <th></th>\n",
       "      <th>co_uf_residencia</th>\n",
       "      <th>co_uf_esc</th>\n",
       "      <th>co_uf_nascimento</th>\n",
       "      <th>sg_uf_esc</th>\n",
       "      <th>sg_uf_nascimento</th>\n",
       "    </tr>\n",
       "  </thead>\n",
       "  <tbody>\n",
       "    <tr>\n",
       "      <th>0</th>\n",
       "      <td>43</td>\n",
       "      <td>NaN</td>\n",
       "      <td>43.0</td>\n",
       "      <td>NaN</td>\n",
       "      <td>RS</td>\n",
       "    </tr>\n",
       "    <tr>\n",
       "      <th>1</th>\n",
       "      <td>23</td>\n",
       "      <td>23.0</td>\n",
       "      <td>23.0</td>\n",
       "      <td>CE</td>\n",
       "      <td>CE</td>\n",
       "    </tr>\n",
       "    <tr>\n",
       "      <th>5</th>\n",
       "      <td>29</td>\n",
       "      <td>NaN</td>\n",
       "      <td>29.0</td>\n",
       "      <td>NaN</td>\n",
       "      <td>BA</td>\n",
       "    </tr>\n",
       "    <tr>\n",
       "      <th>6</th>\n",
       "      <td>51</td>\n",
       "      <td>51.0</td>\n",
       "      <td>28.0</td>\n",
       "      <td>MT</td>\n",
       "      <td>SE</td>\n",
       "    </tr>\n",
       "    <tr>\n",
       "      <th>7</th>\n",
       "      <td>43</td>\n",
       "      <td>NaN</td>\n",
       "      <td>35.0</td>\n",
       "      <td>NaN</td>\n",
       "      <td>SP</td>\n",
       "    </tr>\n",
       "  </tbody>\n",
       "</table>\n",
       "</div>"
      ],
      "text/plain": [
       "   co_uf_residencia  co_uf_esc  co_uf_nascimento sg_uf_esc sg_uf_nascimento\n",
       "0                43        NaN              43.0       NaN               RS\n",
       "1                23       23.0              23.0        CE               CE\n",
       "5                29        NaN              29.0       NaN               BA\n",
       "6                51       51.0              28.0        MT               SE\n",
       "7                43        NaN              35.0       NaN               SP"
      ]
     },
     "execution_count": 11,
     "metadata": {},
     "output_type": "execute_result"
    }
   ],
   "source": [
    "# vamos dar uma olhada nas features relacionadas a região UF\n",
    "train[['co_uf_residencia','co_uf_esc','co_uf_nascimento', 'sg_uf_esc', 'sg_uf_nascimento']].head()"
   ]
  },
  {
   "cell_type": "code",
   "execution_count": 12,
   "metadata": {},
   "outputs": [
    {
     "data": {
      "text/plain": [
       "58"
      ]
     },
     "execution_count": 12,
     "metadata": {},
     "output_type": "execute_result"
    }
   ],
   "source": [
    "# Podemos ver que existem apenas 58 ocorrências de pessoas que estudam em estados diferentes de que residem\n",
    "# então podemos assumir que é comum estudar no mesmo estado onde mora então optei por usar essa informação\n",
    "# para segmentar os estudantes por estado\n",
    "(train.shape[0] - train['co_uf_esc'].isna().sum()) - ((train['co_uf_residencia'] == (train['co_uf_esc'])).sum())"
   ]
  },
  {
   "cell_type": "code",
   "execution_count": 13,
   "metadata": {},
   "outputs": [
    {
     "data": {
      "text/plain": [
       "(10102, 149)"
      ]
     },
     "execution_count": 13,
     "metadata": {},
     "output_type": "execute_result"
    }
   ],
   "source": [
    "# Podemos interpretar que as demais features de UF carregam a mesma informação que o co_uf_residencia \n",
    "# por isso decidi dropar.\n",
    "\n",
    "train.drop(['co_uf_esc','co_uf_nascimento', 'sg_uf_esc','sg_uf_nascimento'     \n",
    "           ], axis=1, inplace=True)\n",
    "train.shape"
   ]
  },
  {
   "cell_type": "code",
   "execution_count": 14,
   "metadata": {},
   "outputs": [
    {
     "data": {
      "text/html": [
       "<div>\n",
       "<style scoped>\n",
       "    .dataframe tbody tr th:only-of-type {\n",
       "        vertical-align: middle;\n",
       "    }\n",
       "\n",
       "    .dataframe tbody tr th {\n",
       "        vertical-align: top;\n",
       "    }\n",
       "\n",
       "    .dataframe thead th {\n",
       "        text-align: right;\n",
       "    }\n",
       "</style>\n",
       "<table border=\"1\" class=\"dataframe\">\n",
       "  <thead>\n",
       "    <tr style=\"text-align: right;\">\n",
       "      <th></th>\n",
       "      <th>index</th>\n",
       "      <th>Total</th>\n",
       "      <th>%</th>\n",
       "    </tr>\n",
       "  </thead>\n",
       "  <tbody>\n",
       "    <tr>\n",
       "      <th>103</th>\n",
       "      <td>q027</td>\n",
       "      <td>6109</td>\n",
       "      <td>60.5</td>\n",
       "    </tr>\n",
       "    <tr>\n",
       "      <th>104</th>\n",
       "      <td>q028</td>\n",
       "      <td>6111</td>\n",
       "      <td>60.5</td>\n",
       "    </tr>\n",
       "    <tr>\n",
       "      <th>105</th>\n",
       "      <td>q029</td>\n",
       "      <td>6110</td>\n",
       "      <td>60.5</td>\n",
       "    </tr>\n",
       "    <tr>\n",
       "      <th>106</th>\n",
       "      <td>q030</td>\n",
       "      <td>6110</td>\n",
       "      <td>60.5</td>\n",
       "    </tr>\n",
       "    <tr>\n",
       "      <th>107</th>\n",
       "      <td>q031</td>\n",
       "      <td>6111</td>\n",
       "      <td>60.5</td>\n",
       "    </tr>\n",
       "    <tr>\n",
       "      <th>108</th>\n",
       "      <td>q032</td>\n",
       "      <td>6111</td>\n",
       "      <td>60.5</td>\n",
       "    </tr>\n",
       "    <tr>\n",
       "      <th>109</th>\n",
       "      <td>q033</td>\n",
       "      <td>6111</td>\n",
       "      <td>60.5</td>\n",
       "    </tr>\n",
       "    <tr>\n",
       "      <th>131</th>\n",
       "      <td>tp_estado_civil</td>\n",
       "      <td>316</td>\n",
       "      <td>3.1</td>\n",
       "    </tr>\n",
       "  </tbody>\n",
       "</table>\n",
       "</div>"
      ],
      "text/plain": [
       "               index  Total     %\n",
       "103             q027   6109  60.5\n",
       "104             q028   6111  60.5\n",
       "105             q029   6110  60.5\n",
       "106             q030   6110  60.5\n",
       "107             q031   6111  60.5\n",
       "108             q032   6111  60.5\n",
       "109             q033   6111  60.5\n",
       "131  tp_estado_civil    316   3.1"
      ]
     },
     "execution_count": 14,
     "metadata": {},
     "output_type": "execute_result"
    }
   ],
   "source": [
    "# Nesta etapa vamos nos focar nas features que superam 1% de dados faltantes.\n",
    "missing_data_count(train,decimal=1)"
   ]
  },
  {
   "cell_type": "markdown",
   "metadata": {},
   "source": [
    "#### O teor das perguntas:\n",
    "Neste ponto será necesário entender o que essas perguntas significam para assim sabermos o que fazer com elas.\n",
    "\n",
    "- q027  - Com que idade você começou a exercer uma atividade remunerada?\n",
    "- q028 - Quantas horas semanais você trabalha ou trabalhava aproximadamente? (Considere a atividade remunerada mais recente.)\n",
    "- q029 - Indique a importância de cada um dos motivos abaixo na sua decisão de trabalhar: Ajudar meus pais nas despesas com a casa.\n",
    "- q030 - Indique a importância de cada um dos motivos abaixo na sua decisão de trabalhar: Sustentar minha família (esposo/a, filhos/as etc.).\n",
    "- q031 - Indique a importância de cada um dos motivos abaixo na sua decisão de trabalhar: Ser independente/ganhar meu próprio dinheiro.\n",
    "- q032 - Indique a importância de cada um dos motivos abaixo na sua decisão de trabalhar: Adquirir experiência.\n",
    "- q033 - Indique a importância de cada um dos motivos abaixo na sua decisão de trabalhar: Custear/pagar meus estudos."
   ]
  },
  {
   "cell_type": "markdown",
   "metadata": {},
   "source": [
    "Todas elas estão relacionadas ao trabalho, questão abordada no item 26 - Você exerce ou já exerceu atividade remunerada?<br>\n",
    "Sendo assim podemos asumir que só respondeu os itens 27 ao 33 quem partica ou já praticou alguma atividade remunerada. "
   ]
  },
  {
   "cell_type": "code",
   "execution_count": 15,
   "metadata": {},
   "outputs": [
    {
     "data": {
      "text/plain": [
       "A    6001\n",
       "B    2192\n",
       "C    1909\n",
       "Name: q026, dtype: int64"
      ]
     },
     "execution_count": 15,
     "metadata": {},
     "output_type": "execute_result"
    }
   ],
   "source": [
    "train['q026'].value_counts()"
   ]
  },
  {
   "cell_type": "markdown",
   "metadata": {},
   "source": [
    "Por isso conclui que não será preciso fazer nada com estas features nesta etapa."
   ]
  },
  {
   "cell_type": "code",
   "execution_count": 16,
   "metadata": {},
   "outputs": [
    {
     "data": {
      "text/plain": [
       " 0.0    9065\n",
       " 1.0     638\n",
       "NaN      316\n",
       " 2.0      75\n",
       " 3.0       8\n",
       "Name: tp_estado_civil, dtype: int64"
      ]
     },
     "execution_count": 16,
     "metadata": {},
     "output_type": "execute_result"
    }
   ],
   "source": [
    "train['tp_estado_civil'].value_counts(dropna=False)"
   ]
  },
  {
   "cell_type": "code",
   "execution_count": 17,
   "metadata": {},
   "outputs": [
    {
     "data": {
      "text/plain": [
       "17    31\n",
       "22    28\n",
       "18    22\n",
       "16    21\n",
       "20    21\n",
       "19    20\n",
       "23    17\n",
       "25    15\n",
       "27    15\n",
       "29    14\n",
       "24    12\n",
       "21    12\n",
       "26     8\n",
       "30     8\n",
       "35     7\n",
       "33     7\n",
       "40     6\n",
       "34     6\n",
       "32     6\n",
       "28     5\n",
       "31     5\n",
       "15     4\n",
       "41     4\n",
       "49     3\n",
       "38     3\n",
       "39     3\n",
       "43     3\n",
       "44     2\n",
       "45     2\n",
       "36     1\n",
       "37     1\n",
       "42     1\n",
       "46     1\n",
       "47     1\n",
       "50     1\n",
       "Name: nu_idade, dtype: int64"
      ]
     },
     "execution_count": 17,
     "metadata": {},
     "output_type": "execute_result"
    }
   ],
   "source": [
    "## vamos ver se dá para inferir algum padrão a partir da idade para o estado civil\n",
    "mask = train['tp_estado_civil'].isna()\n",
    "missing_data_estado_civil = train[mask]\n",
    "missing_data_estado_civil['nu_idade'].value_counts()"
   ]
  },
  {
   "cell_type": "code",
   "execution_count": 18,
   "metadata": {},
   "outputs": [
    {
     "data": {
      "text/plain": [
       "(10102, 148)"
      ]
     },
     "execution_count": 18,
     "metadata": {},
     "output_type": "execute_result"
    }
   ],
   "source": [
    "## Devido o alto nível de desproporcionalidade melhor dropar o estado civil\n",
    "train.drop(['tp_estado_civil'], axis=1, inplace=True)\n",
    "train.shape"
   ]
  },
  {
   "cell_type": "code",
   "execution_count": 19,
   "metadata": {},
   "outputs": [
    {
     "data": {
      "text/html": [
       "<div>\n",
       "<style scoped>\n",
       "    .dataframe tbody tr th:only-of-type {\n",
       "        vertical-align: middle;\n",
       "    }\n",
       "\n",
       "    .dataframe tbody tr th {\n",
       "        vertical-align: top;\n",
       "    }\n",
       "\n",
       "    .dataframe thead th {\n",
       "        text-align: right;\n",
       "    }\n",
       "</style>\n",
       "<table border=\"1\" class=\"dataframe\">\n",
       "  <thead>\n",
       "    <tr style=\"text-align: right;\">\n",
       "      <th></th>\n",
       "      <th>index</th>\n",
       "      <th>Total</th>\n",
       "      <th>%</th>\n",
       "    </tr>\n",
       "  </thead>\n",
       "  <tbody>\n",
       "    <tr>\n",
       "      <th>0</th>\n",
       "      <td>q028</td>\n",
       "      <td>6111</td>\n",
       "      <td>60.49</td>\n",
       "    </tr>\n",
       "    <tr>\n",
       "      <th>2</th>\n",
       "      <td>q032</td>\n",
       "      <td>6111</td>\n",
       "      <td>60.49</td>\n",
       "    </tr>\n",
       "    <tr>\n",
       "      <th>3</th>\n",
       "      <td>q033</td>\n",
       "      <td>6111</td>\n",
       "      <td>60.49</td>\n",
       "    </tr>\n",
       "    <tr>\n",
       "      <th>1</th>\n",
       "      <td>q031</td>\n",
       "      <td>6111</td>\n",
       "      <td>60.49</td>\n",
       "    </tr>\n",
       "    <tr>\n",
       "      <th>4</th>\n",
       "      <td>q029</td>\n",
       "      <td>6110</td>\n",
       "      <td>60.48</td>\n",
       "    </tr>\n",
       "    <tr>\n",
       "      <th>5</th>\n",
       "      <td>q030</td>\n",
       "      <td>6110</td>\n",
       "      <td>60.48</td>\n",
       "    </tr>\n",
       "    <tr>\n",
       "      <th>6</th>\n",
       "      <td>q027</td>\n",
       "      <td>6109</td>\n",
       "      <td>60.47</td>\n",
       "    </tr>\n",
       "    <tr>\n",
       "      <th>16</th>\n",
       "      <td>tx_gabarito_ch</td>\n",
       "      <td>5</td>\n",
       "      <td>0.05</td>\n",
       "    </tr>\n",
       "    <tr>\n",
       "      <th>24</th>\n",
       "      <td>nu_nota_comp5</td>\n",
       "      <td>5</td>\n",
       "      <td>0.05</td>\n",
       "    </tr>\n",
       "    <tr>\n",
       "      <th>23</th>\n",
       "      <td>nu_nota_comp4</td>\n",
       "      <td>5</td>\n",
       "      <td>0.05</td>\n",
       "    </tr>\n",
       "    <tr>\n",
       "      <th>22</th>\n",
       "      <td>nu_nota_comp3</td>\n",
       "      <td>5</td>\n",
       "      <td>0.05</td>\n",
       "    </tr>\n",
       "    <tr>\n",
       "      <th>21</th>\n",
       "      <td>nu_nota_comp2</td>\n",
       "      <td>5</td>\n",
       "      <td>0.05</td>\n",
       "    </tr>\n",
       "    <tr>\n",
       "      <th>20</th>\n",
       "      <td>nu_nota_comp1</td>\n",
       "      <td>5</td>\n",
       "      <td>0.05</td>\n",
       "    </tr>\n",
       "    <tr>\n",
       "      <th>19</th>\n",
       "      <td>tp_status_redacao</td>\n",
       "      <td>5</td>\n",
       "      <td>0.05</td>\n",
       "    </tr>\n",
       "    <tr>\n",
       "      <th>18</th>\n",
       "      <td>tx_gabarito_mt</td>\n",
       "      <td>5</td>\n",
       "      <td>0.05</td>\n",
       "    </tr>\n",
       "    <tr>\n",
       "      <th>17</th>\n",
       "      <td>tx_gabarito_lc</td>\n",
       "      <td>5</td>\n",
       "      <td>0.05</td>\n",
       "    </tr>\n",
       "    <tr>\n",
       "      <th>13</th>\n",
       "      <td>tx_respostas_lc</td>\n",
       "      <td>5</td>\n",
       "      <td>0.05</td>\n",
       "    </tr>\n",
       "    <tr>\n",
       "      <th>15</th>\n",
       "      <td>tx_gabarito_cn</td>\n",
       "      <td>5</td>\n",
       "      <td>0.05</td>\n",
       "    </tr>\n",
       "    <tr>\n",
       "      <th>14</th>\n",
       "      <td>nu_nota_ch</td>\n",
       "      <td>5</td>\n",
       "      <td>0.05</td>\n",
       "    </tr>\n",
       "    <tr>\n",
       "      <th>12</th>\n",
       "      <td>tx_respostas_ch</td>\n",
       "      <td>5</td>\n",
       "      <td>0.05</td>\n",
       "    </tr>\n",
       "    <tr>\n",
       "      <th>11</th>\n",
       "      <td>tx_respostas_cn</td>\n",
       "      <td>5</td>\n",
       "      <td>0.05</td>\n",
       "    </tr>\n",
       "    <tr>\n",
       "      <th>10</th>\n",
       "      <td>nu_nota_mt</td>\n",
       "      <td>5</td>\n",
       "      <td>0.05</td>\n",
       "    </tr>\n",
       "    <tr>\n",
       "      <th>9</th>\n",
       "      <td>nu_nota_cn</td>\n",
       "      <td>5</td>\n",
       "      <td>0.05</td>\n",
       "    </tr>\n",
       "    <tr>\n",
       "      <th>8</th>\n",
       "      <td>nu_nota_lc</td>\n",
       "      <td>5</td>\n",
       "      <td>0.05</td>\n",
       "    </tr>\n",
       "    <tr>\n",
       "      <th>7</th>\n",
       "      <td>tx_respostas_mt</td>\n",
       "      <td>5</td>\n",
       "      <td>0.05</td>\n",
       "    </tr>\n",
       "    <tr>\n",
       "      <th>25</th>\n",
       "      <td>nu_nota_redacao</td>\n",
       "      <td>5</td>\n",
       "      <td>0.05</td>\n",
       "    </tr>\n",
       "  </tbody>\n",
       "</table>\n",
       "</div>"
      ],
      "text/plain": [
       "                index  Total      %\n",
       "0                q028   6111  60.49\n",
       "2                q032   6111  60.49\n",
       "3                q033   6111  60.49\n",
       "1                q031   6111  60.49\n",
       "4                q029   6110  60.48\n",
       "5                q030   6110  60.48\n",
       "6                q027   6109  60.47\n",
       "16     tx_gabarito_ch      5   0.05\n",
       "24      nu_nota_comp5      5   0.05\n",
       "23      nu_nota_comp4      5   0.05\n",
       "22      nu_nota_comp3      5   0.05\n",
       "21      nu_nota_comp2      5   0.05\n",
       "20      nu_nota_comp1      5   0.05\n",
       "19  tp_status_redacao      5   0.05\n",
       "18     tx_gabarito_mt      5   0.05\n",
       "17     tx_gabarito_lc      5   0.05\n",
       "13    tx_respostas_lc      5   0.05\n",
       "15     tx_gabarito_cn      5   0.05\n",
       "14         nu_nota_ch      5   0.05\n",
       "12    tx_respostas_ch      5   0.05\n",
       "11    tx_respostas_cn      5   0.05\n",
       "10         nu_nota_mt      5   0.05\n",
       "9          nu_nota_cn      5   0.05\n",
       "8          nu_nota_lc      5   0.05\n",
       "7     tx_respostas_mt      5   0.05\n",
       "25    nu_nota_redacao      5   0.05"
      ]
     },
     "execution_count": 19,
     "metadata": {},
     "output_type": "execute_result"
    }
   ],
   "source": [
    "# Continuando com as features que teremos que trabalhar para arrumar os dados faltantes\n",
    "missing_data_count(train)"
   ]
  },
  {
   "cell_type": "code",
   "execution_count": 20,
   "metadata": {},
   "outputs": [
    {
     "data": {
      "text/html": [
       "<div>\n",
       "<style scoped>\n",
       "    .dataframe tbody tr th:only-of-type {\n",
       "        vertical-align: middle;\n",
       "    }\n",
       "\n",
       "    .dataframe tbody tr th {\n",
       "        vertical-align: top;\n",
       "    }\n",
       "\n",
       "    .dataframe thead th {\n",
       "        text-align: right;\n",
       "    }\n",
       "</style>\n",
       "<table border=\"1\" class=\"dataframe\">\n",
       "  <thead>\n",
       "    <tr style=\"text-align: right;\">\n",
       "      <th></th>\n",
       "      <th>nu_inscricao</th>\n",
       "      <th>tx_gabarito_ch</th>\n",
       "      <th>nu_nota_comp5</th>\n",
       "      <th>nu_nota_comp4</th>\n",
       "    </tr>\n",
       "  </thead>\n",
       "  <tbody>\n",
       "    <tr>\n",
       "      <th>914</th>\n",
       "      <td>1137a6617af8f0068eaee69d1060e1c47e22ad2f</td>\n",
       "      <td>NaN</td>\n",
       "      <td>NaN</td>\n",
       "      <td>NaN</td>\n",
       "    </tr>\n",
       "    <tr>\n",
       "      <th>1280</th>\n",
       "      <td>a06a4bd8d0463a3e24190fd5ce646efe7f50103a</td>\n",
       "      <td>NaN</td>\n",
       "      <td>NaN</td>\n",
       "      <td>NaN</td>\n",
       "    </tr>\n",
       "    <tr>\n",
       "      <th>1775</th>\n",
       "      <td>8c498ad6e5e18416a465a0c92142b3311c9ceb47</td>\n",
       "      <td>NaN</td>\n",
       "      <td>NaN</td>\n",
       "      <td>NaN</td>\n",
       "    </tr>\n",
       "    <tr>\n",
       "      <th>6253</th>\n",
       "      <td>6bb192606f9dec4db121c348131c29b57235b77b</td>\n",
       "      <td>NaN</td>\n",
       "      <td>NaN</td>\n",
       "      <td>NaN</td>\n",
       "    </tr>\n",
       "    <tr>\n",
       "      <th>12475</th>\n",
       "      <td>94e22d092f0ed45953c8e6e5261cb503270883cb</td>\n",
       "      <td>NaN</td>\n",
       "      <td>NaN</td>\n",
       "      <td>NaN</td>\n",
       "    </tr>\n",
       "  </tbody>\n",
       "</table>\n",
       "</div>"
      ],
      "text/plain": [
       "                                   nu_inscricao tx_gabarito_ch  nu_nota_comp5  \\\n",
       "914    1137a6617af8f0068eaee69d1060e1c47e22ad2f            NaN            NaN   \n",
       "1280   a06a4bd8d0463a3e24190fd5ce646efe7f50103a            NaN            NaN   \n",
       "1775   8c498ad6e5e18416a465a0c92142b3311c9ceb47            NaN            NaN   \n",
       "6253   6bb192606f9dec4db121c348131c29b57235b77b            NaN            NaN   \n",
       "12475  94e22d092f0ed45953c8e6e5261cb503270883cb            NaN            NaN   \n",
       "\n",
       "       nu_nota_comp4  \n",
       "914              NaN  \n",
       "1280             NaN  \n",
       "1775             NaN  \n",
       "6253             NaN  \n",
       "12475            NaN  "
      ]
     },
     "execution_count": 20,
     "metadata": {},
     "output_type": "execute_result"
    }
   ],
   "source": [
    "# podemos ver que todos os dados faltantes se referem as mesmas cinco observações\n",
    "mask = train['tx_gabarito_ch'].isna()\n",
    "missing_data_restante = train[mask]\n",
    "missing_data_restante[['nu_inscricao','tx_gabarito_ch','nu_nota_comp5', 'nu_nota_comp4']]"
   ]
  },
  {
   "cell_type": "code",
   "execution_count": 21,
   "metadata": {},
   "outputs": [],
   "source": [
    "# como são só 5 vou dropar, não oferecem risco para análise.\n",
    "train.drop([914, 1280, 1775, 6253, 12475], inplace=True)"
   ]
  },
  {
   "cell_type": "code",
   "execution_count": 22,
   "metadata": {},
   "outputs": [
    {
     "data": {
      "text/html": [
       "<div>\n",
       "<style scoped>\n",
       "    .dataframe tbody tr th:only-of-type {\n",
       "        vertical-align: middle;\n",
       "    }\n",
       "\n",
       "    .dataframe tbody tr th {\n",
       "        vertical-align: top;\n",
       "    }\n",
       "\n",
       "    .dataframe thead th {\n",
       "        text-align: right;\n",
       "    }\n",
       "</style>\n",
       "<table border=\"1\" class=\"dataframe\">\n",
       "  <thead>\n",
       "    <tr style=\"text-align: right;\">\n",
       "      <th></th>\n",
       "      <th>index</th>\n",
       "      <th>Total</th>\n",
       "      <th>%</th>\n",
       "    </tr>\n",
       "  </thead>\n",
       "  <tbody>\n",
       "    <tr>\n",
       "      <th>0</th>\n",
       "      <td>q028</td>\n",
       "      <td>6108</td>\n",
       "      <td>60.49</td>\n",
       "    </tr>\n",
       "    <tr>\n",
       "      <th>1</th>\n",
       "      <td>q031</td>\n",
       "      <td>6108</td>\n",
       "      <td>60.49</td>\n",
       "    </tr>\n",
       "    <tr>\n",
       "      <th>2</th>\n",
       "      <td>q032</td>\n",
       "      <td>6108</td>\n",
       "      <td>60.49</td>\n",
       "    </tr>\n",
       "    <tr>\n",
       "      <th>3</th>\n",
       "      <td>q033</td>\n",
       "      <td>6108</td>\n",
       "      <td>60.49</td>\n",
       "    </tr>\n",
       "    <tr>\n",
       "      <th>4</th>\n",
       "      <td>q029</td>\n",
       "      <td>6107</td>\n",
       "      <td>60.48</td>\n",
       "    </tr>\n",
       "    <tr>\n",
       "      <th>5</th>\n",
       "      <td>q030</td>\n",
       "      <td>6107</td>\n",
       "      <td>60.48</td>\n",
       "    </tr>\n",
       "    <tr>\n",
       "      <th>6</th>\n",
       "      <td>q027</td>\n",
       "      <td>6106</td>\n",
       "      <td>60.47</td>\n",
       "    </tr>\n",
       "  </tbody>\n",
       "</table>\n",
       "</div>"
      ],
      "text/plain": [
       "  index  Total      %\n",
       "0  q028   6108  60.49\n",
       "1  q031   6108  60.49\n",
       "2  q032   6108  60.49\n",
       "3  q033   6108  60.49\n",
       "4  q029   6107  60.48\n",
       "5  q030   6107  60.48\n",
       "6  q027   6106  60.47"
      ]
     },
     "execution_count": 22,
     "metadata": {},
     "output_type": "execute_result"
    }
   ],
   "source": [
    "# Agora os dados que faltam são apenas os dados das questões que vamos tratar nas próximas etapas.\n",
    "missing_data_count(train)"
   ]
  },
  {
   "cell_type": "code",
   "execution_count": 23,
   "metadata": {},
   "outputs": [],
   "source": [
    "train.to_csv('data/train_tratado.csv')"
   ]
  },
  {
   "cell_type": "markdown",
   "metadata": {},
   "source": [
    "## Exploratory data analysis"
   ]
  },
  {
   "cell_type": "code",
   "execution_count": 24,
   "metadata": {},
   "outputs": [],
   "source": [
    "# Feito o data processing vamos salvar um novo dataset.\n",
    "train_2 = pd.read_csv('data/train_tratado.csv')\n",
    "train_2.drop('Unnamed: 0', axis=1, inplace=True)"
   ]
  },
  {
   "cell_type": "markdown",
   "metadata": {},
   "source": [
    "# Hipóteses"
   ]
  },
  {
   "cell_type": "markdown",
   "metadata": {},
   "source": [
    "## 01 - As notas de pessoas com algum tipo de condição denominada especial apresentam alguma diferença significativa em suas notas?"
   ]
  },
  {
   "cell_type": "code",
   "execution_count": 25,
   "metadata": {},
   "outputs": [],
   "source": [
    "# Todas essas features estão relacionadas com pedidos e/ou condições especiais. \n",
    "\n",
    "especial_list = ['in_baixa_visao', 'in_cegueira', 'in_surdez', 'in_deficiencia_auditiva', 'in_surdo_cegueira',\n",
    "                       'in_deficiencia_fisica', 'in_deficiencia_mental', 'in_deficit_atencao', 'in_dislexia', 'in_discalculia',\n",
    "                       'in_autismo', 'in_visao_monocular', 'in_outra_def', 'in_sabatista', 'in_gestante', 'in_lactante', 'in_idoso',\n",
    "                       'in_estuda_classe_hospitalar', 'in_sem_recurso', 'in_braille', 'in_ampliada_24', 'in_ampliada_18',\n",
    "                       'in_ledor', 'in_acesso', 'in_transcricao', 'in_libras', 'in_leitura_labial', 'in_mesa_cadeira_rodas',\n",
    "                       'in_mesa_cadeira_separada', 'in_apoio_perna', 'in_guia_interprete', 'in_maca', 'in_computador', \n",
    "                       'in_cadeira_especial', 'in_cadeira_canhoto', 'in_cadeira_acolchoada', 'in_prova_deitado', \n",
    "                       'in_mobiliario_obeso', 'in_lamina_overlay', 'in_protetor_auricular', 'in_medidor_glicose',\n",
    "                       'in_maquina_braile', 'in_soroban', 'in_marca_passo', 'in_sonda', 'in_medicamentos', 'in_sala_individual',\n",
    "                       'in_sala_especial', 'in_sala_acompanhante', 'in_mobiliario_especifico', 'in_material_especifico', \n",
    "                       'in_nome_social']"
   ]
  },
  {
   "cell_type": "code",
   "execution_count": 26,
   "metadata": {},
   "outputs": [
    {
     "name": "stdout",
     "output_type": "stream",
     "text": [
      "AxesSubplot(0.125,0.125;0.775x0.755)\n"
     ]
    },
    {
     "data": {
      "image/png": "[encoded data removed]",
      "text/plain": [
       "<Figure size 720x144 with 1 Axes>"
      ]
     },
     "metadata": {
      "needs_background": "light"
     },
     "output_type": "display_data"
    },
    {
     "name": "stdout",
     "output_type": "stream",
     "text": [
      "AxesSubplot(0.125,0.125;0.775x0.755)\n"
     ]
    },
    {
     "data": {
      "image/png": "[encoded data removed]",
      "text/plain": [
       "<Figure size 720x144 with 1 Axes>"
      ]
     },
     "metadata": {
      "needs_background": "light"
     },
     "output_type": "display_data"
    },
    {
     "name": "stdout",
     "output_type": "stream",
     "text": [
      "AxesSubplot(0.125,0.125;0.775x0.755)\n"
     ]
    },
    {
     "data": {
      "image/png": "[encoded data removed]",
      "text/plain": [
       "<Figure size 720x144 with 1 Axes>"
      ]
     },
     "metadata": {
      "needs_background": "light"
     },
     "output_type": "display_data"
    },
    {
     "name": "stdout",
     "output_type": "stream",
     "text": [
      "AxesSubplot(0.125,0.125;0.775x0.755)\n"
     ]
    },
    {
     "data": {
      "image/png": "[encoded data removed]",
      "text/plain": [
       "<Figure size 720x144 with 1 Axes>"
      ]
     },
     "metadata": {
      "needs_background": "light"
     },
     "output_type": "display_data"
    },
    {
     "name": "stdout",
     "output_type": "stream",
     "text": [
      "AxesSubplot(0.125,0.125;0.775x0.755)\n"
     ]
    },
    {
     "data": {
      "image/png": "[encoded data removed]",
      "text/plain": [
       "<Figure size 720x144 with 1 Axes>"
      ]
     },
     "metadata": {
      "needs_background": "light"
     },
     "output_type": "display_data"
    },
    {
     "name": "stdout",
     "output_type": "stream",
     "text": [
      "AxesSubplot(0.125,0.125;0.775x0.755)\n"
     ]
    },
    {
     "data": {
      "image/png": "[encoded data removed]",
      "text/plain": [
       "<Figure size 720x144 with 1 Axes>"
      ]
     },
     "metadata": {
      "needs_background": "light"
     },
     "output_type": "display_data"
    },
    {
     "name": "stdout",
     "output_type": "stream",
     "text": [
      "AxesSubplot(0.125,0.125;0.775x0.755)\n"
     ]
    },
    {
     "data": {
      "image/png": "[encoded data removed]",
      "text/plain": [
       "<Figure size 720x144 with 1 Axes>"
      ]
     },
     "metadata": {
      "needs_background": "light"
     },
     "output_type": "display_data"
    },
    {
     "name": "stdout",
     "output_type": "stream",
     "text": [
      "AxesSubplot(0.125,0.125;0.775x0.755)\n"
     ]
    },
    {
     "data": {
      "image/png": "[encoded data removed]",
      "text/plain": [
       "<Figure size 720x144 with 1 Axes>"
      ]
     },
     "metadata": {
      "needs_background": "light"
     },
     "output_type": "display_data"
    },
    {
     "name": "stdout",
     "output_type": "stream",
     "text": [
      "AxesSubplot(0.125,0.125;0.775x0.755)\n"
     ]
    },
    {
     "data": {
      "image/png": "[encoded data removed]",
      "text/plain": [
       "<Figure size 720x144 with 1 Axes>"
      ]
     },
     "metadata": {
      "needs_background": "light"
     },
     "output_type": "display_data"
    },
    {
     "name": "stdout",
     "output_type": "stream",
     "text": [
      "AxesSubplot(0.125,0.125;0.775x0.755)\n"
     ]
    },
    {
     "data": {
      "image/png": "[encoded data removed]",
      "text/plain": [
       "<Figure size 720x144 with 1 Axes>"
      ]
     },
     "metadata": {
      "needs_background": "light"
     },
     "output_type": "display_data"
    },
    {
     "name": "stdout",
     "output_type": "stream",
     "text": [
      "AxesSubplot(0.125,0.125;0.775x0.755)\n"
     ]
    },
    {
     "data": {
      "image/png": "[encoded data removed]",
      "text/plain": [
       "<Figure size 720x144 with 1 Axes>"
      ]
     },
     "metadata": {
      "needs_background": "light"
     },
     "output_type": "display_data"
    },
    {
     "name": "stdout",
     "output_type": "stream",
     "text": [
      "AxesSubplot(0.125,0.125;0.775x0.755)\n"
     ]
    },
    {
     "data": {
      "image/png": "[encoded data removed]",
      "text/plain": [
       "<Figure size 720x144 with 1 Axes>"
      ]
     },
     "metadata": {
      "needs_background": "light"
     },
     "output_type": "display_data"
    },
    {
     "name": "stdout",
     "output_type": "stream",
     "text": [
      "AxesSubplot(0.125,0.125;0.775x0.755)\n"
     ]
    },
    {
     "data": {
      "image/png": "[encoded data removed]",
      "text/plain": [
       "<Figure size 720x144 with 1 Axes>"
      ]
     },
     "metadata": {
      "needs_background": "light"
     },
     "output_type": "display_data"
    },
    {
     "name": "stdout",
     "output_type": "stream",
     "text": [
      "AxesSubplot(0.125,0.125;0.775x0.755)\n"
     ]
    },
    {
     "data": {
      "image/png": "[encoded data removed]",
      "text/plain": [
       "<Figure size 720x144 with 1 Axes>"
      ]
     },
     "metadata": {
      "needs_background": "light"
     },
     "output_type": "display_data"
    },
    {
     "name": "stdout",
     "output_type": "stream",
     "text": [
      "AxesSubplot(0.125,0.125;0.775x0.755)\n"
     ]
    },
    {
     "data": {
      "image/png": "[encoded data removed]",
      "text/plain": [
       "<Figure size 720x144 with 1 Axes>"
      ]
     },
     "metadata": {
      "needs_background": "light"
     },
     "output_type": "display_data"
    },
    {
     "name": "stdout",
     "output_type": "stream",
     "text": [
      "AxesSubplot(0.125,0.125;0.775x0.755)\n"
     ]
    },
    {
     "data": {
      "image/png": "[encoded data removed]",
      "text/plain": [
       "<Figure size 720x144 with 1 Axes>"
      ]
     },
     "metadata": {
      "needs_background": "light"
     },
     "output_type": "display_data"
    },
    {
     "name": "stdout",
     "output_type": "stream",
     "text": [
      "AxesSubplot(0.125,0.125;0.775x0.755)\n"
     ]
    },
    {
     "data": {
      "image/png": "[encoded data removed]",
      "text/plain": [
       "<Figure size 720x144 with 1 Axes>"
      ]
     },
     "metadata": {
      "needs_background": "light"
     },
     "output_type": "display_data"
    },
    {
     "name": "stdout",
     "output_type": "stream",
     "text": [
      "AxesSubplot(0.125,0.125;0.775x0.755)\n"
     ]
    },
    {
     "data": {
      "image/png": "[encoded data removed]",
      "text/plain": [
       "<Figure size 720x144 with 1 Axes>"
      ]
     },
     "metadata": {
      "needs_background": "light"
     },
     "output_type": "display_data"
    },
    {
     "name": "stdout",
     "output_type": "stream",
     "text": [
      "AxesSubplot(0.125,0.125;0.775x0.755)\n"
     ]
    },
    {
     "data": {
      "image/png": "[encoded data removed]",
      "text/plain": [
       "<Figure size 720x144 with 1 Axes>"
      ]
     },
     "metadata": {
      "needs_background": "light"
     },
     "output_type": "display_data"
    },
    {
     "name": "stdout",
     "output_type": "stream",
     "text": [
      "AxesSubplot(0.125,0.125;0.775x0.755)\n"
     ]
    },
    {
     "data": {
      "image/png": "[encoded data removed]",
      "text/plain": [
       "<Figure size 720x144 with 1 Axes>"
      ]
     },
     "metadata": {
      "needs_background": "light"
     },
     "output_type": "display_data"
    },
    {
     "name": "stdout",
     "output_type": "stream",
     "text": [
      "AxesSubplot(0.125,0.125;0.775x0.755)\n"
     ]
    },
    {
     "data": {
      "image/png": "[encoded data removed]",
      "text/plain": [
       "<Figure size 720x144 with 1 Axes>"
      ]
     },
     "metadata": {
      "needs_background": "light"
     },
     "output_type": "display_data"
    },
    {
     "name": "stdout",
     "output_type": "stream",
     "text": [
      "AxesSubplot(0.125,0.125;0.775x0.755)\n"
     ]
    },
    {
     "data": {
      "image/png": "[encoded data removed]",
      "text/plain": [
       "<Figure size 720x144 with 1 Axes>"
      ]
     },
     "metadata": {
      "needs_background": "light"
     },
     "output_type": "display_data"
    },
    {
     "name": "stdout",
     "output_type": "stream",
     "text": [
      "AxesSubplot(0.125,0.125;0.775x0.755)\n"
     ]
    },
    {
     "data": {
      "image/png": "[encoded data removed]",
      "text/plain": [
       "<Figure size 720x144 with 1 Axes>"
      ]
     },
     "metadata": {
      "needs_background": "light"
     },
     "output_type": "display_data"
    },
    {
     "name": "stdout",
     "output_type": "stream",
     "text": [
      "AxesSubplot(0.125,0.125;0.775x0.755)\n"
     ]
    },
    {
     "data": {
      "image/png": "[encoded data removed]",
      "text/plain": [
       "<Figure size 720x144 with 1 Axes>"
      ]
     },
     "metadata": {
      "needs_background": "light"
     },
     "output_type": "display_data"
    },
    {
     "name": "stdout",
     "output_type": "stream",
     "text": [
      "AxesSubplot(0.125,0.125;0.775x0.755)\n"
     ]
    },
    {
     "data": {
      "image/png": "[encoded data removed]",
      "text/plain": [
       "<Figure size 720x144 with 1 Axes>"
      ]
     },
     "metadata": {
      "needs_background": "light"
     },
     "output_type": "display_data"
    },
    {
     "name": "stdout",
     "output_type": "stream",
     "text": [
      "AxesSubplot(0.125,0.125;0.775x0.755)\n"
     ]
    },
    {
     "data": {
      "image/png": "[encoded data removed]",
      "text/plain": [
       "<Figure size 720x144 with 1 Axes>"
      ]
     },
     "metadata": {
      "needs_background": "light"
     },
     "output_type": "display_data"
    },
    {
     "name": "stdout",
     "output_type": "stream",
     "text": [
      "AxesSubplot(0.125,0.125;0.775x0.755)\n"
     ]
    },
    {
     "data": {
      "image/png": "[encoded data removed]",
      "text/plain": [
       "<Figure size 720x144 with 1 Axes>"
      ]
     },
     "metadata": {
      "needs_background": "light"
     },
     "output_type": "display_data"
    },
    {
     "name": "stdout",
     "output_type": "stream",
     "text": [
      "AxesSubplot(0.125,0.125;0.775x0.755)\n"
     ]
    },
    {
     "data": {
      "image/png": "[encoded data removed]",
      "text/plain": [
       "<Figure size 720x144 with 1 Axes>"
      ]
     },
     "metadata": {
      "needs_background": "light"
     },
     "output_type": "display_data"
    },
    {
     "name": "stdout",
     "output_type": "stream",
     "text": [
      "AxesSubplot(0.125,0.125;0.775x0.755)\n"
     ]
    },
    {
     "data": {
      "image/png": "[encoded data removed]",
      "text/plain": [
       "<Figure size 720x144 with 1 Axes>"
      ]
     },
     "metadata": {
      "needs_background": "light"
     },
     "output_type": "display_data"
    },
    {
     "name": "stdout",
     "output_type": "stream",
     "text": [
      "AxesSubplot(0.125,0.125;0.775x0.755)\n"
     ]
    },
    {
     "data": {
      "image/png": "[encoded data removed]",
      "text/plain": [
       "<Figure size 720x144 with 1 Axes>"
      ]
     },
     "metadata": {
      "needs_background": "light"
     },
     "output_type": "display_data"
    },
    {
     "name": "stdout",
     "output_type": "stream",
     "text": [
      "AxesSubplot(0.125,0.125;0.775x0.755)\n"
     ]
    },
    {
     "data": {
      "image/png": "[encoded data removed]",
      "text/plain": [
       "<Figure size 720x144 with 1 Axes>"
      ]
     },
     "metadata": {
      "needs_background": "light"
     },
     "output_type": "display_data"
    },
    {
     "name": "stdout",
     "output_type": "stream",
     "text": [
      "AxesSubplot(0.125,0.125;0.775x0.755)\n"
     ]
    },
    {
     "data": {
      "image/png": "[encoded data removed]",
      "text/plain": [
       "<Figure size 720x144 with 1 Axes>"
      ]
     },
     "metadata": {
      "needs_background": "light"
     },
     "output_type": "display_data"
    },
    {
     "name": "stdout",
     "output_type": "stream",
     "text": [
      "AxesSubplot(0.125,0.125;0.775x0.755)\n"
     ]
    },
    {
     "data": {
      "image/png": "[encoded data removed]",
      "text/plain": [
       "<Figure size 720x144 with 1 Axes>"
      ]
     },
     "metadata": {
      "needs_background": "light"
     },
     "output_type": "display_data"
    },
    {
     "name": "stdout",
     "output_type": "stream",
     "text": [
      "AxesSubplot(0.125,0.125;0.775x0.755)\n"
     ]
    },
    {
     "data": {
      "image/png": "[encoded data removed]",
      "text/plain": [
       "<Figure size 720x144 with 1 Axes>"
      ]
     },
     "metadata": {
      "needs_background": "light"
     },
     "output_type": "display_data"
    },
    {
     "name": "stdout",
     "output_type": "stream",
     "text": [
      "AxesSubplot(0.125,0.125;0.775x0.755)\n"
     ]
    },
    {
     "data": {
      "image/png": "[encoded data removed]",
      "text/plain": [
       "<Figure size 720x144 with 1 Axes>"
      ]
     },
     "metadata": {
      "needs_background": "light"
     },
     "output_type": "display_data"
    },
    {
     "name": "stdout",
     "output_type": "stream",
     "text": [
      "AxesSubplot(0.125,0.125;0.775x0.755)\n"
     ]
    },
    {
     "data": {
      "image/png": "[encoded data removed]",
      "text/plain": [
       "<Figure size 720x144 with 1 Axes>"
      ]
     },
     "metadata": {
      "needs_background": "light"
     },
     "output_type": "display_data"
    },
    {
     "name": "stdout",
     "output_type": "stream",
     "text": [
      "AxesSubplot(0.125,0.125;0.775x0.755)\n"
     ]
    },
    {
     "data": {
      "image/png": "[encoded data removed]",
      "text/plain": [
       "<Figure size 720x144 with 1 Axes>"
      ]
     },
     "metadata": {
      "needs_background": "light"
     },
     "output_type": "display_data"
    },
    {
     "name": "stdout",
     "output_type": "stream",
     "text": [
      "AxesSubplot(0.125,0.125;0.775x0.755)\n"
     ]
    },
    {
     "data": {
      "image/png": "[encoded data removed]",
      "text/plain": [
       "<Figure size 720x144 with 1 Axes>"
      ]
     },
     "metadata": {
      "needs_background": "light"
     },
     "output_type": "display_data"
    },
    {
     "name": "stdout",
     "output_type": "stream",
     "text": [
      "AxesSubplot(0.125,0.125;0.775x0.755)\n"
     ]
    },
    {
     "data": {
      "image/png": "[encoded data removed]",
      "text/plain": [
       "<Figure size 720x144 with 1 Axes>"
      ]
     },
     "metadata": {
      "needs_background": "light"
     },
     "output_type": "display_data"
    },
    {
     "name": "stdout",
     "output_type": "stream",
     "text": [
      "AxesSubplot(0.125,0.125;0.775x0.755)\n"
     ]
    },
    {
     "data": {
      "image/png": "[encoded data removed]",
      "text/plain": [
       "<Figure size 720x144 with 1 Axes>"
      ]
     },
     "metadata": {
      "needs_background": "light"
     },
     "output_type": "display_data"
    },
    {
     "name": "stdout",
     "output_type": "stream",
     "text": [
      "AxesSubplot(0.125,0.125;0.775x0.755)\n"
     ]
    },
    {
     "data": {
      "image/png": "[encoded data removed]",
      "text/plain": [
       "<Figure size 720x144 with 1 Axes>"
      ]
     },
     "metadata": {
      "needs_background": "light"
     },
     "output_type": "display_data"
    },
    {
     "name": "stdout",
     "output_type": "stream",
     "text": [
      "AxesSubplot(0.125,0.125;0.775x0.755)\n"
     ]
    },
    {
     "data": {
      "image/png": "[encoded data removed]",
      "text/plain": [
       "<Figure size 720x144 with 1 Axes>"
      ]
     },
     "metadata": {
      "needs_background": "light"
     },
     "output_type": "display_data"
    },
    {
     "name": "stdout",
     "output_type": "stream",
     "text": [
      "AxesSubplot(0.125,0.125;0.775x0.755)\n"
     ]
    },
    {
     "data": {
      "image/png": "[encoded data removed]",
      "text/plain": [
       "<Figure size 720x144 with 1 Axes>"
      ]
     },
     "metadata": {
      "needs_background": "light"
     },
     "output_type": "display_data"
    },
    {
     "name": "stdout",
     "output_type": "stream",
     "text": [
      "AxesSubplot(0.125,0.125;0.775x0.755)\n"
     ]
    },
    {
     "data": {
      "image/png": "[encoded data removed]",
      "text/plain": [
       "<Figure size 720x144 with 1 Axes>"
      ]
     },
     "metadata": {
      "needs_background": "light"
     },
     "output_type": "display_data"
    },
    {
     "name": "stdout",
     "output_type": "stream",
     "text": [
      "AxesSubplot(0.125,0.125;0.775x0.755)\n"
     ]
    },
    {
     "data": {
      "image/png": "[encoded data removed]",
      "text/plain": [
       "<Figure size 720x144 with 1 Axes>"
      ]
     },
     "metadata": {
      "needs_background": "light"
     },
     "output_type": "display_data"
    },
    {
     "name": "stdout",
     "output_type": "stream",
     "text": [
      "AxesSubplot(0.125,0.125;0.775x0.755)\n"
     ]
    },
    {
     "data": {
      "image/png": "[encoded data removed]",
      "text/plain": [
       "<Figure size 720x144 with 1 Axes>"
      ]
     },
     "metadata": {
      "needs_background": "light"
     },
     "output_type": "display_data"
    },
    {
     "name": "stdout",
     "output_type": "stream",
     "text": [
      "AxesSubplot(0.125,0.125;0.775x0.755)\n"
     ]
    },
    {
     "data": {
      "image/png": "[encoded data removed]",
      "text/plain": [
       "<Figure size 720x144 with 1 Axes>"
      ]
     },
     "metadata": {
      "needs_background": "light"
     },
     "output_type": "display_data"
    },
    {
     "name": "stdout",
     "output_type": "stream",
     "text": [
      "AxesSubplot(0.125,0.125;0.775x0.755)\n"
     ]
    },
    {
     "data": {
      "image/png": "[encoded data removed]",
      "text/plain": [
       "<Figure size 720x144 with 1 Axes>"
      ]
     },
     "metadata": {
      "needs_background": "light"
     },
     "output_type": "display_data"
    },
    {
     "name": "stdout",
     "output_type": "stream",
     "text": [
      "AxesSubplot(0.125,0.125;0.775x0.755)\n"
     ]
    },
    {
     "data": {
      "image/png": "[encoded data removed]",
      "text/plain": [
       "<Figure size 720x144 with 1 Axes>"
      ]
     },
     "metadata": {
      "needs_background": "light"
     },
     "output_type": "display_data"
    },
    {
     "name": "stdout",
     "output_type": "stream",
     "text": [
      "AxesSubplot(0.125,0.125;0.775x0.755)\n"
     ]
    },
    {
     "data": {
      "image/png": "[encoded data removed]",
      "text/plain": [
       "<Figure size 720x144 with 1 Axes>"
      ]
     },
     "metadata": {
      "needs_background": "light"
     },
     "output_type": "display_data"
    },
    {
     "name": "stdout",
     "output_type": "stream",
     "text": [
      "AxesSubplot(0.125,0.125;0.775x0.755)\n"
     ]
    },
    {
     "data": {
      "image/png": "[encoded data removed]",
      "text/plain": [
       "<Figure size 720x144 with 1 Axes>"
      ]
     },
     "metadata": {
      "needs_background": "light"
     },
     "output_type": "display_data"
    },
    {
     "name": "stdout",
     "output_type": "stream",
     "text": [
      "AxesSubplot(0.125,0.125;0.775x0.755)\n"
     ]
    },
    {
     "data": {
      "image/png": "[encoded data removed]",
      "text/plain": [
       "<Figure size 720x144 with 1 Axes>"
      ]
     },
     "metadata": {
      "needs_background": "light"
     },
     "output_type": "display_data"
    }
   ],
   "source": [
    "plt.rcParams['figure.figsize'] = (10, 2)\n",
    "for i in range(len(especial_list)):\n",
    "    print(train_2.groupby(especial_list[i])['nu_nota_mt'].mean().plot(kind='barh'))\n",
    "    plt.show()"
   ]
  },
  {
   "cell_type": "code",
   "execution_count": 27,
   "metadata": {},
   "outputs": [],
   "source": [
    "especial_list_2 = ['in_surdez','in_deficiencia_auditiva','in_deficiencia_fisica','in_deficiencia_mental',\n",
    "                         'in_deficit_atencao','in_discalculia','in_outra_def','in_lactante','in_idoso','in_sem_recurso',\n",
    "                         'in_ampliada_24','in_ampliada_18','in_ledor','in_acesso','in_transcricao','in_libras',\n",
    "                         'in_leitura_labial','in_mesa_cadeira_rodas','in_mesa_cadeira_separada','in_apoio_perna']"
   ]
  },
  {
   "cell_type": "markdown",
   "metadata": {},
   "source": [
    "### Análise preliminar\n",
    "Em uma primeira análise superficial apenas comparando as médias das notas por condição especial idenfiquei pelo menos 20 condições que contem alguma discrepancia relevante nas médias das notas.\n"
   ]
  },
  {
   "cell_type": "code",
   "execution_count": 28,
   "metadata": {},
   "outputs": [
    {
     "data": {
      "text/plain": [
       "0    9923\n",
       "1     174\n",
       "Name: isEspecial, dtype: int64"
      ]
     },
     "execution_count": 28,
     "metadata": {},
     "output_type": "execute_result"
    }
   ],
   "source": [
    "train_2['isEspecial'] = 0\n",
    "for i in range(len(especial_list)):\n",
    "    train_2['isEspecial'] += np.where(train_2[especial_list[i]]==1,1,0)\n",
    "\n",
    "train_2['isEspecial'] = np.where(train_2['isEspecial']!=0,1,0)\n",
    "train_2['isEspecial'].value_counts(dropna=False)"
   ]
  },
  {
   "cell_type": "code",
   "execution_count": 29,
   "metadata": {},
   "outputs": [
    {
     "data": {
      "text/html": [
       "<div>\n",
       "<style scoped>\n",
       "    .dataframe tbody tr th:only-of-type {\n",
       "        vertical-align: middle;\n",
       "    }\n",
       "\n",
       "    .dataframe tbody tr th {\n",
       "        vertical-align: top;\n",
       "    }\n",
       "\n",
       "    .dataframe thead th {\n",
       "        text-align: right;\n",
       "    }\n",
       "</style>\n",
       "<table border=\"1\" class=\"dataframe\">\n",
       "  <thead>\n",
       "    <tr style=\"text-align: right;\">\n",
       "      <th></th>\n",
       "      <th>count</th>\n",
       "      <th>mean</th>\n",
       "      <th>std</th>\n",
       "      <th>min</th>\n",
       "      <th>25%</th>\n",
       "      <th>50%</th>\n",
       "      <th>75%</th>\n",
       "      <th>max</th>\n",
       "    </tr>\n",
       "    <tr>\n",
       "      <th>isEspecial</th>\n",
       "      <th></th>\n",
       "      <th></th>\n",
       "      <th></th>\n",
       "      <th></th>\n",
       "      <th></th>\n",
       "      <th></th>\n",
       "      <th></th>\n",
       "      <th></th>\n",
       "    </tr>\n",
       "  </thead>\n",
       "  <tbody>\n",
       "    <tr>\n",
       "      <th>0</th>\n",
       "      <td>9923.0</td>\n",
       "      <td>482.721052</td>\n",
       "      <td>99.387685</td>\n",
       "      <td>0.0</td>\n",
       "      <td>409.2</td>\n",
       "      <td>461.5</td>\n",
       "      <td>537.700</td>\n",
       "      <td>935.1</td>\n",
       "    </tr>\n",
       "    <tr>\n",
       "      <th>1</th>\n",
       "      <td>174.0</td>\n",
       "      <td>478.518966</td>\n",
       "      <td>115.677006</td>\n",
       "      <td>0.0</td>\n",
       "      <td>400.4</td>\n",
       "      <td>449.5</td>\n",
       "      <td>535.075</td>\n",
       "      <td>952.0</td>\n",
       "    </tr>\n",
       "  </tbody>\n",
       "</table>\n",
       "</div>"
      ],
      "text/plain": [
       "             count        mean         std  min    25%    50%      75%    max\n",
       "isEspecial                                                                   \n",
       "0           9923.0  482.721052   99.387685  0.0  409.2  461.5  537.700  935.1\n",
       "1            174.0  478.518966  115.677006  0.0  400.4  449.5  535.075  952.0"
      ]
     },
     "execution_count": 29,
     "metadata": {},
     "output_type": "execute_result"
    }
   ],
   "source": [
    "train_2.groupby('isEspecial')['nu_nota_mt'].describe()"
   ]
  },
  {
   "cell_type": "code",
   "execution_count": 30,
   "metadata": {},
   "outputs": [
    {
     "data": {
      "text/plain": [
       "False    10088\n",
       "True         9\n",
       "Name: nu_nota_mt, dtype: int64"
      ]
     },
     "execution_count": 30,
     "metadata": {},
     "output_type": "execute_result"
    }
   ],
   "source": [
    "(train_2['nu_nota_mt']<=0).value_counts()"
   ]
  },
  {
   "cell_type": "code",
   "execution_count": 31,
   "metadata": {},
   "outputs": [],
   "source": [
    "function = ''' nu_nota_mt ~ isEspecial +\n",
    "nu_idade +\n",
    "tp_sexo +\n",
    "tp_cor_raca +\n",
    "tp_ano_concluiu +\n",
    "C(co_prova_mt) +\n",
    "nu_nota_comp1 +\n",
    "nu_nota_comp2 +\n",
    "nu_nota_comp3 +\n",
    "nu_nota_comp4 +\n",
    "nu_nota_comp5 +\n",
    "nu_nota_redacao\n",
    "\n",
    "'''"
   ]
  },
  {
   "cell_type": "code",
   "execution_count": 32,
   "metadata": {},
   "outputs": [
    {
     "name": "stdout",
     "output_type": "stream",
     "text": [
      "                                       Results: Ordinary least squares\n",
      "==============================================================================================================\n",
      "Model:                            OLS                            Adj. R-squared:                   0.213      \n",
      "Dependent Variable:               nu_nota_mt                     AIC:                              119187.1387\n",
      "Date:                             2019-05-11 18:26               BIC:                              119317.0986\n",
      "No. Observations:                 10097                          Log-Likelihood:                   -59576.    \n",
      "Df Model:                         17                             F-statistic:                      161.7      \n",
      "Df Residuals:                     10079                          Prob (F-statistic):               0.00       \n",
      "R-squared:                        0.214                          Scale:                            7820.9     \n",
      "--------------------------------------------------------------------------------------------------------------\n",
      "                                                            Coef.   Std.Err.    t     P>|t|   [0.025   0.975] \n",
      "--------------------------------------------------------------------------------------------------------------\n",
      "Intercept                                                  404.5302  12.3518  32.7506 0.0000 380.3181 428.7422\n",
      "tp_sexo[T.M]                                                43.8987   1.8285  24.0083 0.0000  40.3145  47.4828\n",
      "C(co_prova_mt)[T.0ec1c8ac02d2747b6e9a99933fbf96127dd6e89e] -36.0705  15.5317  -2.3224 0.0202 -66.5156  -5.6253\n",
      "C(co_prova_mt)[T.577f8968d95046f5eb5cc158608e12fa9ba34c85] -14.2505  10.9558  -1.3007 0.1934 -35.7259   7.2250\n",
      "C(co_prova_mt)[T.6d6961694e839531aec2d35bbd8552b55394a0d7] -22.1504  16.1816  -1.3689 0.1711 -53.8695   9.5686\n",
      "C(co_prova_mt)[T.73c5c86eef8f70263e4c5708d153cca123f93378] -17.2579  15.5975  -1.1065 0.2686 -47.8321  13.3163\n",
      "C(co_prova_mt)[T.767a32545304ed293242d528f54d4edb1369f910] -11.0129  10.9737  -1.0036 0.3156 -32.5235  10.4978\n",
      "C(co_prova_mt)[T.81d0ee00ef42a7c23eb04496458c03d4c5b9c31a]  -0.4022  10.9650  -0.0367 0.9707 -21.8957  21.0913\n",
      "C(co_prova_mt)[T.97caab1e1533dba217deb7ef41490f52e459ab01]  -9.7364  10.9698  -0.8876 0.3748 -31.2393  11.7665\n",
      "isEspecial                                                  -2.4048   6.7844  -0.3545 0.7230 -15.7036  10.8939\n",
      "nu_idade                                                    -1.2588   0.1982  -6.3518 0.0000  -1.6473  -0.8703\n",
      "tp_cor_raca                                                -11.6513   0.8823 -13.2051 0.0000 -13.3809  -9.9218\n",
      "tp_ano_concluiu                                              2.8638   0.4317   6.6341 0.0000   2.0176   3.7100\n",
      "nu_nota_comp1                                               -0.1292   0.0528  -2.4468 0.0144  -0.2327  -0.0257\n",
      "nu_nota_comp2                                               -0.1399   0.0580  -2.4134 0.0158  -0.2536  -0.0263\n",
      "nu_nota_comp3                                                0.1383   0.0597   2.3153 0.0206   0.0212   0.2553\n",
      "nu_nota_comp4                                                0.1496   0.0573   2.6093 0.0091   0.0372   0.2619\n",
      "nu_nota_comp5                                                0.1752   0.0284   6.1661 0.0000   0.1195   0.2309\n",
      "nu_nota_redacao                                              0.1939   0.0052  37.4251 0.0000   0.1838   0.2041\n",
      "--------------------------------------------------------------------------------------------------------------\n",
      "Omnibus:                          691.917                  Durbin-Watson:                     1.955           \n",
      "Prob(Omnibus):                    0.000                    Jarque-Bera (JB):                  1038.913        \n",
      "Skew:                             0.566                    Prob(JB):                          0.000           \n",
      "Kurtosis:                         4.090                    Condition No.:                     5175291131770909\n",
      "==============================================================================================================\n",
      "* The condition number is large (5e+15). This might indicate             strong multicollinearity or other\n",
      "numerical problems.\n"
     ]
    }
   ],
   "source": [
    "model1 = smf.ols(function, train_2).fit()\n",
    "print(model1.summary2())"
   ]
  },
  {
   "cell_type": "code",
   "execution_count": 33,
   "metadata": {},
   "outputs": [],
   "source": [
    "residuoM1 = pd.DataFrame(model1.resid, columns=['residuo'])"
   ]
  },
  {
   "cell_type": "code",
   "execution_count": 34,
   "metadata": {},
   "outputs": [
    {
     "data": {
      "image/png": "[encoded data removed]",
      "text/plain": [
       "<Figure size 720x144 with 1 Axes>"
      ]
     },
     "metadata": {
      "needs_background": "light"
     },
     "output_type": "display_data"
    }
   ],
   "source": [
    "# O residuo do modelo está bem próximo de uma normal.\n",
    "\n",
    "sns.distplot(residuoM1['residuo'].fillna(0), fit=stats.norm);\n",
    "\n",
    "(mu, sigma) = stats.norm.fit(residuoM1['residuo'].fillna(0))\n",
    "plt.legend([f'Normal dist. ($\\mu=$ {round(mu,0)} and $\\sigma=$ {round(sigma,0)} )'],loc='best')\n",
    "plt.ylabel('Frequencia')\n",
    "plt.title('Distribuição do residuo Modelo 1')\n",
    "\n",
    "plt.show()"
   ]
  },
  {
   "cell_type": "code",
   "execution_count": 35,
   "metadata": {},
   "outputs": [],
   "source": [
    "## Notamos que com um P-valor alto (0.7230) para inEspecial não podemos considerar a hipótese válida.\n",
    "## Mas vamos fazer uma segunda análise individualizada para termos certeza se as condições especiais influenciam na nota de matemática.\n",
    "\n",
    "function1 = ''' nu_nota_mt ~  tp_sexo +\n",
    "nu_idade +\n",
    "tp_cor_raca +\n",
    "tp_ano_concluiu +\n",
    "nu_nota_comp1 +\n",
    "nu_nota_comp2 +\n",
    "nu_nota_comp3 +\n",
    "nu_nota_comp4 +\n",
    "nu_nota_comp5 +\n",
    "nu_nota_redacao +\n",
    "in_surdez +\n",
    "in_deficiencia_auditiva +\n",
    "in_deficiencia_fisica +\n",
    "in_deficiencia_mental +\n",
    "in_deficit_atencao +\n",
    "in_discalculia +\n",
    "in_outra_def +\n",
    "in_lactante +\n",
    "in_idoso +\n",
    "in_sem_recurso +\n",
    "in_ampliada_24 +\n",
    "in_ampliada_18 +\n",
    "in_ledor +\n",
    "in_acesso +\n",
    "in_transcricao +\n",
    "in_libras +\n",
    "in_leitura_labial +\n",
    "in_mesa_cadeira_rodas +\n",
    "in_mesa_cadeira_separada +\n",
    "in_apoio_perna \n",
    "\n",
    "'''"
   ]
  },
  {
   "cell_type": "code",
   "execution_count": 36,
   "metadata": {},
   "outputs": [
    {
     "name": "stdout",
     "output_type": "stream",
     "text": [
      "                       Results: Ordinary least squares\n",
      "==============================================================================\n",
      "Model:                  OLS                 Adj. R-squared:        0.212      \n",
      "Dependent Variable:     nu_nota_mt          AIC:                   119207.3992\n",
      "Date:                   2019-05-11 18:26    BIC:                   119423.9990\n",
      "No. Observations:       10097               Log-Likelihood:        -59574.    \n",
      "Df Model:               29                  F-statistic:           94.84      \n",
      "Df Residuals:           10067               Prob (F-statistic):    0.00       \n",
      "R-squared:              0.215               Scale:                 7827.3     \n",
      "------------------------------------------------------------------------------\n",
      "                           Coef.   Std.Err.    t     P>|t|    [0.025   0.975] \n",
      "------------------------------------------------------------------------------\n",
      "Intercept                 395.9686   6.1872  63.9984 0.0000  383.8405 408.0966\n",
      "tp_sexo[T.M]               43.6320   1.8305  23.8356 0.0000   40.0438  47.2203\n",
      "nu_idade                   -1.2232   0.1993  -6.1361 0.0000   -1.6140  -0.8324\n",
      "tp_cor_raca               -11.6672   0.8831 -13.2121 0.0000  -13.3982  -9.9362\n",
      "tp_ano_concluiu             2.7423   0.4329   6.3342 0.0000    1.8936   3.5909\n",
      "nu_nota_comp1              -0.1289   0.0529  -2.4373 0.0148   -0.2326  -0.0252\n",
      "nu_nota_comp2              -0.1407   0.0581  -2.4232 0.0154   -0.2546  -0.0269\n",
      "nu_nota_comp3               0.1508   0.0598   2.5214 0.0117    0.0336   0.2681\n",
      "nu_nota_comp4               0.1387   0.0574   2.4157 0.0157    0.0262   0.2513\n",
      "nu_nota_comp5               0.1722   0.0285   6.0514 0.0000    0.1164   0.2280\n",
      "nu_nota_redacao             0.1921   0.0052  36.9648 0.0000    0.1819   0.2023\n",
      "in_surdez                 -34.2295 112.6164  -0.3039 0.7612 -254.9801 186.5210\n",
      "in_deficiencia_auditiva   -93.2639  53.6763  -1.7375 0.0823 -198.4801  11.9523\n",
      "in_deficiencia_fisica     -29.0748  37.2982  -0.7795 0.4357 -102.1868  44.0371\n",
      "in_deficiencia_mental    -127.5764  73.4997  -1.7357 0.0826 -271.6505  16.4978\n",
      "in_deficit_atencao         50.8848  39.4527   1.2898 0.1972  -26.4505 128.2200\n",
      "in_discalculia             10.1130  92.6291   0.1092 0.9131 -171.4585 191.6844\n",
      "in_outra_def              133.5433  56.7198   2.3544 0.0186   22.3611 244.7255\n",
      "in_lactante               -78.9725  42.3932  -1.8629 0.0625 -162.0717   4.1267\n",
      "in_idoso                 -149.4738  93.8507  -1.5927 0.1113 -333.4399  34.4923\n",
      "in_sem_recurso             63.8496  30.3858   2.1013 0.0356    4.2872 123.4119\n",
      "in_ampliada_24            -21.2403  54.2019  -0.3919 0.6952 -127.4869  85.0063\n",
      "in_ampliada_18             62.6184  33.5263   1.8677 0.0618   -3.0998 128.3366\n",
      "in_ledor                  -48.6458  58.7687  -0.8278 0.4078 -163.8442  66.5525\n",
      "in_acesso                 -54.5932  42.3959  -1.2877 0.1979 -137.6976  28.5112\n",
      "in_transcricao             54.8445  63.2306   0.8674 0.3858  -69.1000 178.7890\n",
      "in_libras                  29.2390 103.5408   0.2824 0.7776 -173.7215 232.1996\n",
      "in_leitura_labial          71.0588  82.4827   0.8615 0.3890  -90.6238 232.7414\n",
      "in_mesa_cadeira_rodas      45.3151  60.5916   0.7479 0.4546  -73.4564 164.0866\n",
      "in_mesa_cadeira_separada   10.6572  78.8983   0.1351 0.8926 -143.9993 165.3136\n",
      "in_apoio_perna            177.3025  94.9038   1.8682 0.0618   -8.7280 363.3330\n",
      "------------------------------------------------------------------------------\n",
      "Omnibus:              671.313        Durbin-Watson:           1.955           \n",
      "Prob(Omnibus):        0.000          Jarque-Bera (JB):        977.217         \n",
      "Skew:                 0.564          Prob(JB):                0.000           \n",
      "Kurtosis:             4.024          Condition No.:           2251799813685248\n",
      "==============================================================================\n",
      "* The condition number is large (2e+15). This might indicate\n",
      "strong multicollinearity or other numerical problems.\n"
     ]
    }
   ],
   "source": [
    "model2 = smf.ols(function1, train_2).fit()\n",
    "print(model2.summary2())"
   ]
  },
  {
   "cell_type": "code",
   "execution_count": 37,
   "metadata": {},
   "outputs": [],
   "source": [
    "residuoM2 = pd.DataFrame(model2.resid, columns=['residuo'])"
   ]
  },
  {
   "cell_type": "code",
   "execution_count": 38,
   "metadata": {},
   "outputs": [
    {
     "data": {
      "image/png": "[encoded data removed]",
      "text/plain": [
       "<Figure size 720x144 with 1 Axes>"
      ]
     },
     "metadata": {
      "needs_background": "light"
     },
     "output_type": "display_data"
    }
   ],
   "source": [
    "# O residuo do modelo está bem próximo de uma normal.\n",
    "\n",
    "sns.distplot(residuoM2['residuo'].fillna(0), fit=stats.norm);\n",
    "\n",
    "(mu, sigma) = stats.norm.fit(residuoM2['residuo'].fillna(0))\n",
    "plt.legend([f'Normal dist. ($\\mu=$ {round(mu,0)} and $\\sigma=$ {round(sigma,0)} )'],loc='best')\n",
    "plt.ylabel('Frequencia')\n",
    "plt.title('Distribuição do residuo Modelo 2')\n",
    "\n",
    "plt.show()"
   ]
  },
  {
   "cell_type": "markdown",
   "metadata": {},
   "source": [
    "## Conclusão #01\n",
    "Levando em consideração as analises acima conclui-se que os dados de pedido específico e/ ou especial não têm influência estatística para a nota de matemática dos indiviiduos"
   ]
  },
  {
   "cell_type": "markdown",
   "metadata": {},
   "source": [
    "## 02 - O estado (UF) do individuo gera diferenças significativas em suas notas? Ou seja, o local onde o aluno mora influencia em sua  nota?"
   ]
  },
  {
   "cell_type": "markdown",
   "metadata": {},
   "source": [
    "### Análise preliminar\n",
    "Em uma primeira análise superficial apenas comparando as médias por estado notamos uma diferença de apenas 67 pontos\n",
    "entre o estado com a maior média (DF) e o pior (AP) então a princípio podemos considerar que não há grandes diferenças."
   ]
  },
  {
   "cell_type": "code",
   "execution_count": 39,
   "metadata": {},
   "outputs": [
    {
     "data": {
      "text/html": [
       "<div>\n",
       "<style scoped>\n",
       "    .dataframe tbody tr th:only-of-type {\n",
       "        vertical-align: middle;\n",
       "    }\n",
       "\n",
       "    .dataframe tbody tr th {\n",
       "        vertical-align: top;\n",
       "    }\n",
       "\n",
       "    .dataframe thead th {\n",
       "        text-align: right;\n",
       "    }\n",
       "</style>\n",
       "<table border=\"1\" class=\"dataframe\">\n",
       "  <thead>\n",
       "    <tr style=\"text-align: right;\">\n",
       "      <th></th>\n",
       "      <th></th>\n",
       "      <th>count</th>\n",
       "      <th>mean</th>\n",
       "      <th>std</th>\n",
       "      <th>min</th>\n",
       "      <th>25%</th>\n",
       "      <th>50%</th>\n",
       "      <th>75%</th>\n",
       "      <th>max</th>\n",
       "    </tr>\n",
       "    <tr>\n",
       "      <th>co_uf_residencia</th>\n",
       "      <th>sg_uf_residencia</th>\n",
       "      <th></th>\n",
       "      <th></th>\n",
       "      <th></th>\n",
       "      <th></th>\n",
       "      <th></th>\n",
       "      <th></th>\n",
       "      <th></th>\n",
       "      <th></th>\n",
       "    </tr>\n",
       "  </thead>\n",
       "  <tbody>\n",
       "    <tr>\n",
       "      <th>53</th>\n",
       "      <th>DF</th>\n",
       "      <td>161.0</td>\n",
       "      <td>511.654658</td>\n",
       "      <td>118.958837</td>\n",
       "      <td>340.7</td>\n",
       "      <td>419.600</td>\n",
       "      <td>491.10</td>\n",
       "      <td>583.600</td>\n",
       "      <td>896.3</td>\n",
       "    </tr>\n",
       "    <tr>\n",
       "      <th>33</th>\n",
       "      <th>RJ</th>\n",
       "      <td>540.0</td>\n",
       "      <td>510.312407</td>\n",
       "      <td>114.432736</td>\n",
       "      <td>335.6</td>\n",
       "      <td>418.450</td>\n",
       "      <td>487.15</td>\n",
       "      <td>572.550</td>\n",
       "      <td>909.5</td>\n",
       "    </tr>\n",
       "    <tr>\n",
       "      <th>31</th>\n",
       "      <th>MG</th>\n",
       "      <td>1008.0</td>\n",
       "      <td>507.095635</td>\n",
       "      <td>108.623546</td>\n",
       "      <td>328.0</td>\n",
       "      <td>423.000</td>\n",
       "      <td>485.45</td>\n",
       "      <td>576.875</td>\n",
       "      <td>857.9</td>\n",
       "    </tr>\n",
       "    <tr>\n",
       "      <th>35</th>\n",
       "      <th>SP</th>\n",
       "      <td>1532.0</td>\n",
       "      <td>503.977937</td>\n",
       "      <td>109.835660</td>\n",
       "      <td>0.0</td>\n",
       "      <td>421.250</td>\n",
       "      <td>480.50</td>\n",
       "      <td>570.125</td>\n",
       "      <td>928.5</td>\n",
       "    </tr>\n",
       "    <tr>\n",
       "      <th>43</th>\n",
       "      <th>RS</th>\n",
       "      <td>378.0</td>\n",
       "      <td>494.639418</td>\n",
       "      <td>98.961349</td>\n",
       "      <td>0.0</td>\n",
       "      <td>418.475</td>\n",
       "      <td>482.60</td>\n",
       "      <td>564.325</td>\n",
       "      <td>881.9</td>\n",
       "    </tr>\n",
       "    <tr>\n",
       "      <th>42</th>\n",
       "      <th>SC</th>\n",
       "      <td>209.0</td>\n",
       "      <td>494.447368</td>\n",
       "      <td>101.438724</td>\n",
       "      <td>339.8</td>\n",
       "      <td>407.700</td>\n",
       "      <td>472.20</td>\n",
       "      <td>570.900</td>\n",
       "      <td>806.5</td>\n",
       "    </tr>\n",
       "    <tr>\n",
       "      <th>24</th>\n",
       "      <th>RN</th>\n",
       "      <td>185.0</td>\n",
       "      <td>492.505946</td>\n",
       "      <td>109.017197</td>\n",
       "      <td>340.9</td>\n",
       "      <td>411.700</td>\n",
       "      <td>466.80</td>\n",
       "      <td>552.300</td>\n",
       "      <td>952.0</td>\n",
       "    </tr>\n",
       "    <tr>\n",
       "      <th>41</th>\n",
       "      <th>PR</th>\n",
       "      <td>449.0</td>\n",
       "      <td>490.857016</td>\n",
       "      <td>98.647292</td>\n",
       "      <td>338.1</td>\n",
       "      <td>413.400</td>\n",
       "      <td>475.70</td>\n",
       "      <td>546.200</td>\n",
       "      <td>874.1</td>\n",
       "    </tr>\n",
       "    <tr>\n",
       "      <th>14</th>\n",
       "      <th>RR</th>\n",
       "      <td>22.0</td>\n",
       "      <td>486.386364</td>\n",
       "      <td>82.633985</td>\n",
       "      <td>347.2</td>\n",
       "      <td>429.575</td>\n",
       "      <td>456.95</td>\n",
       "      <td>554.750</td>\n",
       "      <td>626.5</td>\n",
       "    </tr>\n",
       "    <tr>\n",
       "      <th>32</th>\n",
       "      <th>ES</th>\n",
       "      <td>211.0</td>\n",
       "      <td>480.883412</td>\n",
       "      <td>93.826059</td>\n",
       "      <td>335.4</td>\n",
       "      <td>411.600</td>\n",
       "      <td>457.00</td>\n",
       "      <td>533.050</td>\n",
       "      <td>787.1</td>\n",
       "    </tr>\n",
       "    <tr>\n",
       "      <th>51</th>\n",
       "      <th>MT</th>\n",
       "      <td>189.0</td>\n",
       "      <td>480.622222</td>\n",
       "      <td>96.647759</td>\n",
       "      <td>341.9</td>\n",
       "      <td>414.600</td>\n",
       "      <td>461.60</td>\n",
       "      <td>530.700</td>\n",
       "      <td>935.1</td>\n",
       "    </tr>\n",
       "    <tr>\n",
       "      <th>28</th>\n",
       "      <th>SE</th>\n",
       "      <td>151.0</td>\n",
       "      <td>479.796026</td>\n",
       "      <td>100.433492</td>\n",
       "      <td>341.6</td>\n",
       "      <td>401.200</td>\n",
       "      <td>458.40</td>\n",
       "      <td>527.350</td>\n",
       "      <td>800.2</td>\n",
       "    </tr>\n",
       "    <tr>\n",
       "      <th>52</th>\n",
       "      <th>GO</th>\n",
       "      <td>382.0</td>\n",
       "      <td>476.934031</td>\n",
       "      <td>99.733853</td>\n",
       "      <td>320.5</td>\n",
       "      <td>403.300</td>\n",
       "      <td>453.30</td>\n",
       "      <td>534.175</td>\n",
       "      <td>893.6</td>\n",
       "    </tr>\n",
       "    <tr>\n",
       "      <th>50</th>\n",
       "      <th>MS</th>\n",
       "      <td>130.0</td>\n",
       "      <td>473.285385</td>\n",
       "      <td>84.549374</td>\n",
       "      <td>346.8</td>\n",
       "      <td>410.550</td>\n",
       "      <td>451.85</td>\n",
       "      <td>529.725</td>\n",
       "      <td>712.8</td>\n",
       "    </tr>\n",
       "    <tr>\n",
       "      <th>25</th>\n",
       "      <th>PB</th>\n",
       "      <td>250.0</td>\n",
       "      <td>470.114400</td>\n",
       "      <td>98.250322</td>\n",
       "      <td>0.0</td>\n",
       "      <td>406.700</td>\n",
       "      <td>456.45</td>\n",
       "      <td>522.150</td>\n",
       "      <td>854.7</td>\n",
       "    </tr>\n",
       "    <tr>\n",
       "      <th>26</th>\n",
       "      <th>PE</th>\n",
       "      <td>466.0</td>\n",
       "      <td>469.575751</td>\n",
       "      <td>98.172517</td>\n",
       "      <td>0.0</td>\n",
       "      <td>405.300</td>\n",
       "      <td>451.80</td>\n",
       "      <td>518.825</td>\n",
       "      <td>840.9</td>\n",
       "    </tr>\n",
       "    <tr>\n",
       "      <th>29</th>\n",
       "      <th>BA</th>\n",
       "      <td>661.0</td>\n",
       "      <td>469.346899</td>\n",
       "      <td>89.324915</td>\n",
       "      <td>339.8</td>\n",
       "      <td>402.600</td>\n",
       "      <td>450.50</td>\n",
       "      <td>516.400</td>\n",
       "      <td>867.1</td>\n",
       "    </tr>\n",
       "    <tr>\n",
       "      <th>15</th>\n",
       "      <th>PA</th>\n",
       "      <td>463.0</td>\n",
       "      <td>466.335421</td>\n",
       "      <td>87.591208</td>\n",
       "      <td>0.0</td>\n",
       "      <td>404.800</td>\n",
       "      <td>454.10</td>\n",
       "      <td>517.450</td>\n",
       "      <td>817.0</td>\n",
       "    </tr>\n",
       "    <tr>\n",
       "      <th>11</th>\n",
       "      <th>RO</th>\n",
       "      <td>81.0</td>\n",
       "      <td>466.239506</td>\n",
       "      <td>81.134180</td>\n",
       "      <td>339.7</td>\n",
       "      <td>411.600</td>\n",
       "      <td>441.50</td>\n",
       "      <td>514.700</td>\n",
       "      <td>666.7</td>\n",
       "    </tr>\n",
       "    <tr>\n",
       "      <th>17</th>\n",
       "      <th>TO</th>\n",
       "      <td>132.0</td>\n",
       "      <td>464.550000</td>\n",
       "      <td>94.406198</td>\n",
       "      <td>327.6</td>\n",
       "      <td>392.250</td>\n",
       "      <td>441.25</td>\n",
       "      <td>522.150</td>\n",
       "      <td>750.5</td>\n",
       "    </tr>\n",
       "    <tr>\n",
       "      <th>23</th>\n",
       "      <th>CE</th>\n",
       "      <td>1367.0</td>\n",
       "      <td>462.829407</td>\n",
       "      <td>84.693481</td>\n",
       "      <td>334.3</td>\n",
       "      <td>401.950</td>\n",
       "      <td>446.60</td>\n",
       "      <td>504.000</td>\n",
       "      <td>865.5</td>\n",
       "    </tr>\n",
       "    <tr>\n",
       "      <th>12</th>\n",
       "      <th>AC</th>\n",
       "      <td>48.0</td>\n",
       "      <td>461.818750</td>\n",
       "      <td>73.649274</td>\n",
       "      <td>343.0</td>\n",
       "      <td>412.850</td>\n",
       "      <td>443.75</td>\n",
       "      <td>504.800</td>\n",
       "      <td>651.1</td>\n",
       "    </tr>\n",
       "    <tr>\n",
       "      <th>27</th>\n",
       "      <th>AL</th>\n",
       "      <td>167.0</td>\n",
       "      <td>460.514970</td>\n",
       "      <td>80.610156</td>\n",
       "      <td>331.3</td>\n",
       "      <td>400.450</td>\n",
       "      <td>436.40</td>\n",
       "      <td>509.300</td>\n",
       "      <td>713.3</td>\n",
       "    </tr>\n",
       "    <tr>\n",
       "      <th>13</th>\n",
       "      <th>AM</th>\n",
       "      <td>170.0</td>\n",
       "      <td>460.002941</td>\n",
       "      <td>72.682986</td>\n",
       "      <td>334.4</td>\n",
       "      <td>405.825</td>\n",
       "      <td>445.35</td>\n",
       "      <td>495.450</td>\n",
       "      <td>685.1</td>\n",
       "    </tr>\n",
       "    <tr>\n",
       "      <th>22</th>\n",
       "      <th>PI</th>\n",
       "      <td>232.0</td>\n",
       "      <td>457.654310</td>\n",
       "      <td>86.112099</td>\n",
       "      <td>339.5</td>\n",
       "      <td>397.200</td>\n",
       "      <td>438.00</td>\n",
       "      <td>497.850</td>\n",
       "      <td>803.5</td>\n",
       "    </tr>\n",
       "    <tr>\n",
       "      <th>21</th>\n",
       "      <th>MA</th>\n",
       "      <td>461.0</td>\n",
       "      <td>456.098265</td>\n",
       "      <td>83.089142</td>\n",
       "      <td>0.0</td>\n",
       "      <td>398.600</td>\n",
       "      <td>442.00</td>\n",
       "      <td>499.100</td>\n",
       "      <td>774.6</td>\n",
       "    </tr>\n",
       "    <tr>\n",
       "      <th>16</th>\n",
       "      <th>AP</th>\n",
       "      <td>52.0</td>\n",
       "      <td>444.869231</td>\n",
       "      <td>76.162078</td>\n",
       "      <td>336.8</td>\n",
       "      <td>391.850</td>\n",
       "      <td>421.05</td>\n",
       "      <td>481.050</td>\n",
       "      <td>688.6</td>\n",
       "    </tr>\n",
       "  </tbody>\n",
       "</table>\n",
       "</div>"
      ],
      "text/plain": [
       "                                    count        mean         std    min  \\\n",
       "co_uf_residencia sg_uf_residencia                                          \n",
       "53               DF                 161.0  511.654658  118.958837  340.7   \n",
       "33               RJ                 540.0  510.312407  114.432736  335.6   \n",
       "31               MG                1008.0  507.095635  108.623546  328.0   \n",
       "35               SP                1532.0  503.977937  109.835660    0.0   \n",
       "43               RS                 378.0  494.639418   98.961349    0.0   \n",
       "42               SC                 209.0  494.447368  101.438724  339.8   \n",
       "24               RN                 185.0  492.505946  109.017197  340.9   \n",
       "41               PR                 449.0  490.857016   98.647292  338.1   \n",
       "14               RR                  22.0  486.386364   82.633985  347.2   \n",
       "32               ES                 211.0  480.883412   93.826059  335.4   \n",
       "51               MT                 189.0  480.622222   96.647759  341.9   \n",
       "28               SE                 151.0  479.796026  100.433492  341.6   \n",
       "52               GO                 382.0  476.934031   99.733853  320.5   \n",
       "50               MS                 130.0  473.285385   84.549374  346.8   \n",
       "25               PB                 250.0  470.114400   98.250322    0.0   \n",
       "26               PE                 466.0  469.575751   98.172517    0.0   \n",
       "29               BA                 661.0  469.346899   89.324915  339.8   \n",
       "15               PA                 463.0  466.335421   87.591208    0.0   \n",
       "11               RO                  81.0  466.239506   81.134180  339.7   \n",
       "17               TO                 132.0  464.550000   94.406198  327.6   \n",
       "23               CE                1367.0  462.829407   84.693481  334.3   \n",
       "12               AC                  48.0  461.818750   73.649274  343.0   \n",
       "27               AL                 167.0  460.514970   80.610156  331.3   \n",
       "13               AM                 170.0  460.002941   72.682986  334.4   \n",
       "22               PI                 232.0  457.654310   86.112099  339.5   \n",
       "21               MA                 461.0  456.098265   83.089142    0.0   \n",
       "16               AP                  52.0  444.869231   76.162078  336.8   \n",
       "\n",
       "                                       25%     50%      75%    max  \n",
       "co_uf_residencia sg_uf_residencia                                   \n",
       "53               DF                419.600  491.10  583.600  896.3  \n",
       "33               RJ                418.450  487.15  572.550  909.5  \n",
       "31               MG                423.000  485.45  576.875  857.9  \n",
       "35               SP                421.250  480.50  570.125  928.5  \n",
       "43               RS                418.475  482.60  564.325  881.9  \n",
       "42               SC                407.700  472.20  570.900  806.5  \n",
       "24               RN                411.700  466.80  552.300  952.0  \n",
       "41               PR                413.400  475.70  546.200  874.1  \n",
       "14               RR                429.575  456.95  554.750  626.5  \n",
       "32               ES                411.600  457.00  533.050  787.1  \n",
       "51               MT                414.600  461.60  530.700  935.1  \n",
       "28               SE                401.200  458.40  527.350  800.2  \n",
       "52               GO                403.300  453.30  534.175  893.6  \n",
       "50               MS                410.550  451.85  529.725  712.8  \n",
       "25               PB                406.700  456.45  522.150  854.7  \n",
       "26               PE                405.300  451.80  518.825  840.9  \n",
       "29               BA                402.600  450.50  516.400  867.1  \n",
       "15               PA                404.800  454.10  517.450  817.0  \n",
       "11               RO                411.600  441.50  514.700  666.7  \n",
       "17               TO                392.250  441.25  522.150  750.5  \n",
       "23               CE                401.950  446.60  504.000  865.5  \n",
       "12               AC                412.850  443.75  504.800  651.1  \n",
       "27               AL                400.450  436.40  509.300  713.3  \n",
       "13               AM                405.825  445.35  495.450  685.1  \n",
       "22               PI                397.200  438.00  497.850  803.5  \n",
       "21               MA                398.600  442.00  499.100  774.6  \n",
       "16               AP                391.850  421.05  481.050  688.6  "
      ]
     },
     "execution_count": 39,
     "metadata": {},
     "output_type": "execute_result"
    }
   ],
   "source": [
    "train_2.groupby(['co_uf_residencia', 'sg_uf_residencia'])['nu_nota_mt'].describe().sort_values(by= 'mean',ascending = False)"
   ]
  },
  {
   "cell_type": "code",
   "execution_count": 40,
   "metadata": {},
   "outputs": [],
   "source": [
    "function3 = ''' nu_nota_mt ~ tp_sexo  +\n",
    "nu_idade +\n",
    "tp_cor_raca +\n",
    "tp_ano_concluiu +\n",
    "nu_nota_comp1 +\n",
    "nu_nota_comp2 +\n",
    "nu_nota_comp3 +\n",
    "nu_nota_comp4 +\n",
    "nu_nota_comp5 +\n",
    "nu_nota_redacao +\n",
    "co_uf_residencia\n",
    "\n",
    "'''"
   ]
  },
  {
   "cell_type": "code",
   "execution_count": 41,
   "metadata": {},
   "outputs": [
    {
     "name": "stdout",
     "output_type": "stream",
     "text": [
      "                  Results: Ordinary least squares\n",
      "====================================================================\n",
      "Model:              OLS              Adj. R-squared:     0.215      \n",
      "Dependent Variable: nu_nota_mt       AIC:                119158.9016\n",
      "Date:               2019-05-11 18:26 BIC:                119238.3215\n",
      "No. Observations:   10097            Log-Likelihood:     -59568.    \n",
      "Df Model:           10               F-statistic:        276.9      \n",
      "Df Residuals:       10086            Prob (F-statistic): 0.00       \n",
      "R-squared:          0.215            Scale:              7804.5     \n",
      "--------------------------------------------------------------------\n",
      "                  Coef.   Std.Err.    t     P>|t|   [0.025   0.975] \n",
      "--------------------------------------------------------------------\n",
      "Intercept        372.7673   6.8693  54.2658 0.0000 359.3021 386.2324\n",
      "tp_sexo[T.M]      43.8610   1.8259  24.0220 0.0000  40.2820  47.4401\n",
      "nu_idade          -1.2927   0.1976  -6.5418 0.0000  -1.6801  -0.9054\n",
      "tp_cor_raca      -10.1701   0.9062 -11.2231 0.0000 -11.9464  -8.3938\n",
      "tp_ano_concluiu    3.0171   0.4315   6.9914 0.0000   2.1711   3.8630\n",
      "nu_nota_comp1     -0.1416   0.0528  -2.6852 0.0073  -0.2450  -0.0382\n",
      "nu_nota_comp2     -0.1319   0.0579  -2.2781 0.0227  -0.2454  -0.0184\n",
      "nu_nota_comp3      0.1477   0.0596   2.4776 0.0132   0.0309   0.2646\n",
      "nu_nota_comp4      0.1431   0.0572   2.4996 0.0124   0.0309   0.2553\n",
      "nu_nota_comp5      0.1746   0.0284   6.1522 0.0000   0.1190   0.2303\n",
      "nu_nota_redacao    0.1919   0.0052  37.0544 0.0000   0.1817   0.2020\n",
      "co_uf_residencia   0.6951   0.0925   7.5113 0.0000   0.5137   0.8765\n",
      "--------------------------------------------------------------------\n",
      "Omnibus:           655.096    Durbin-Watson:       1.951            \n",
      "Prob(Omnibus):     0.000      Jarque-Bera (JB):    963.831          \n",
      "Skew:              0.550      Prob(JB):            0.000            \n",
      "Kurtosis:          4.039      Condition No.:       16927115476937598\n",
      "====================================================================\n",
      "* The condition number is large (2e+16). This might indicate\n",
      "strong multicollinearity or other numerical problems.\n"
     ]
    }
   ],
   "source": [
    "model3 = smf.ols(function3, train_2).fit()\n",
    "print(model3.summary2())"
   ]
  },
  {
   "cell_type": "code",
   "execution_count": 42,
   "metadata": {},
   "outputs": [],
   "source": [
    "residuoM3 = pd.DataFrame(model3.resid, columns=['residuo'])"
   ]
  },
  {
   "cell_type": "code",
   "execution_count": 43,
   "metadata": {},
   "outputs": [
    {
     "data": {
      "image/png": "[encoded data removed]",
      "text/plain": [
       "<Figure size 720x144 with 1 Axes>"
      ]
     },
     "metadata": {
      "needs_background": "light"
     },
     "output_type": "display_data"
    }
   ],
   "source": [
    "# O residuo do modelo está bem próximo de uma normal.\n",
    "\n",
    "sns.distplot(residuoM3['residuo'].fillna(0), fit=stats.norm);\n",
    "\n",
    "(mu, sigma) = stats.norm.fit(residuoM3['residuo'].fillna(0))\n",
    "plt.legend([f'Normal dist. ($\\mu=$ {round(mu,0)} and $\\sigma=$ {round(sigma,0)} )'],loc='best')\n",
    "plt.ylabel('Frequencia')\n",
    "plt.title('Distribuição do residuo Modelo 3')\n",
    "\n",
    "plt.show()"
   ]
  },
  {
   "cell_type": "markdown",
   "metadata": {},
   "source": [
    "## Conclusão #02\n",
    "O que podemos ver é que o UF de residencia tem uma pequena influencia na nota de matemática (0.6951) pontos em média."
   ]
  },
  {
   "cell_type": "markdown",
   "metadata": {},
   "source": [
    "## 03 - As notas nas demais provas (ciências da natureza, linguagens e códigos, ciências humanas e redação) influenciam na nota de matemática?"
   ]
  },
  {
   "cell_type": "code",
   "execution_count": 44,
   "metadata": {},
   "outputs": [],
   "source": [
    "function4 = ''' nu_nota_mt ~ tp_sexo  +\n",
    "nu_idade +\n",
    "tp_cor_raca +\n",
    "tp_ano_concluiu +\n",
    "nu_nota_cn + \n",
    "nu_nota_ch + \n",
    "nu_nota_lc +\n",
    "nu_nota_redacao +\n",
    "co_uf_residencia\n",
    "'''"
   ]
  },
  {
   "cell_type": "code",
   "execution_count": 45,
   "metadata": {},
   "outputs": [
    {
     "name": "stdout",
     "output_type": "stream",
     "text": [
      "                  Results: Ordinary least squares\n",
      "====================================================================\n",
      "Model:              OLS              Adj. R-squared:     0.419      \n",
      "Dependent Variable: nu_nota_mt       AIC:                116108.8697\n",
      "Date:               2019-05-11 18:26 BIC:                116181.0696\n",
      "No. Observations:   10097            Log-Likelihood:     -58044.    \n",
      "Df Model:           9                F-statistic:        811.1      \n",
      "Df Residuals:       10087            Prob (F-statistic): 0.00       \n",
      "R-squared:          0.420            Scale:              5770.3     \n",
      "--------------------------------------------------------------------\n",
      "                      Coef.  Std.Err.    t    P>|t|   [0.025  0.975]\n",
      "--------------------------------------------------------------------\n",
      "Intercept            10.1418   8.2657  1.2270 0.2199 -6.0607 26.3443\n",
      "tp_sexo[T.M]         25.8171   1.6010 16.1257 0.0000 22.6788 28.9553\n",
      "nu_idade             -0.8112   0.1700 -4.7703 0.0000 -1.1445 -0.4778\n",
      "tp_cor_raca          -4.1192   0.7860 -5.2405 0.0000 -5.6600 -2.5784\n",
      "tp_ano_concluiu       0.9036   0.3722  2.4274 0.0152  0.1739  1.6332\n",
      "nu_nota_cn            0.4962   0.0141 35.1901 0.0000  0.4686  0.5239\n",
      "nu_nota_ch            0.2169   0.0161 13.4777 0.0000  0.1854  0.2485\n",
      "nu_nota_lc            0.2123   0.0161 13.2113 0.0000  0.1808  0.2438\n",
      "nu_nota_redacao       0.0336   0.0062  5.3811 0.0000  0.0213  0.0458\n",
      "co_uf_residencia      0.2966   0.0800  3.7097 0.0002  0.1399  0.4533\n",
      "--------------------------------------------------------------------\n",
      "Omnibus:               163.486       Durbin-Watson:          1.960  \n",
      "Prob(Omnibus):         0.000         Jarque-Bera (JB):       211.373\n",
      "Skew:                  0.226         Prob(JB):               0.000  \n",
      "Kurtosis:              3.546         Condition No.:          11361  \n",
      "====================================================================\n",
      "* The condition number is large (1e+04). This might indicate\n",
      "strong multicollinearity or other numerical problems.\n"
     ]
    }
   ],
   "source": [
    "model4 = smf.ols(function4, train_2).fit()\n",
    "print(model4.summary2())"
   ]
  },
  {
   "cell_type": "code",
   "execution_count": 46,
   "metadata": {},
   "outputs": [],
   "source": [
    "residuoM4 = pd.DataFrame(model4.resid, columns=['residuo'])"
   ]
  },
  {
   "cell_type": "code",
   "execution_count": 47,
   "metadata": {},
   "outputs": [
    {
     "data": {
      "image/png": "[encoded data removed]",
      "text/plain": [
       "<Figure size 720x144 with 1 Axes>"
      ]
     },
     "metadata": {
      "needs_background": "light"
     },
     "output_type": "display_data"
    }
   ],
   "source": [
    "# O residuo do modelo está ainda mais próximo de uma normal.\n",
    "\n",
    "sns.distplot(residuoM4['residuo'].fillna(0), fit=stats.norm);\n",
    "\n",
    "(mu, sigma) = stats.norm.fit(residuoM4['residuo'].fillna(0))\n",
    "plt.legend([f'Normal dist. ($\\mu=$ {round(mu,0)} and $\\sigma=$ {round(sigma,0)} )'],loc='best')\n",
    "plt.ylabel('Frequencia')\n",
    "plt.title('Distribuição do residuo Modelo 4')\n",
    "\n",
    "plt.show()"
   ]
  },
  {
   "cell_type": "markdown",
   "metadata": {},
   "source": [
    "## Conclusão #03\n",
    "O que podemos ver é que as notas nasd demais provas influenciam positivamente a nota de matematica mas não forma drástica.\n",
    "Pelo que pode-se observar a nota de Ciências da natureza é a que mais influencia mas ainda sim, pouco alterando a note em apenas 0.49 pontos."
   ]
  },
  {
   "cell_type": "markdown",
   "metadata": {},
   "source": [
    "## 04 - O ano de conclusão do ensino médio aumenta influencia na nota? Se sim, positivamente ou negativamente?"
   ]
  },
  {
   "cell_type": "code",
   "execution_count": 48,
   "metadata": {},
   "outputs": [
    {
     "data": {
      "text/html": [
       "<div>\n",
       "<style scoped>\n",
       "    .dataframe tbody tr th:only-of-type {\n",
       "        vertical-align: middle;\n",
       "    }\n",
       "\n",
       "    .dataframe tbody tr th {\n",
       "        vertical-align: top;\n",
       "    }\n",
       "\n",
       "    .dataframe thead th {\n",
       "        text-align: right;\n",
       "    }\n",
       "</style>\n",
       "<table border=\"1\" class=\"dataframe\">\n",
       "  <thead>\n",
       "    <tr style=\"text-align: right;\">\n",
       "      <th></th>\n",
       "      <th>count</th>\n",
       "      <th>mean</th>\n",
       "      <th>std</th>\n",
       "      <th>min</th>\n",
       "      <th>25%</th>\n",
       "      <th>50%</th>\n",
       "      <th>75%</th>\n",
       "      <th>max</th>\n",
       "    </tr>\n",
       "    <tr>\n",
       "      <th>tp_ano_concluiu</th>\n",
       "      <th></th>\n",
       "      <th></th>\n",
       "      <th></th>\n",
       "      <th></th>\n",
       "      <th></th>\n",
       "      <th></th>\n",
       "      <th></th>\n",
       "      <th></th>\n",
       "    </tr>\n",
       "  </thead>\n",
       "  <tbody>\n",
       "    <tr>\n",
       "      <th>9</th>\n",
       "      <td>107.0</td>\n",
       "      <td>497.251402</td>\n",
       "      <td>105.449912</td>\n",
       "      <td>342.5</td>\n",
       "      <td>409.550</td>\n",
       "      <td>482.10</td>\n",
       "      <td>569.750</td>\n",
       "      <td>843.0</td>\n",
       "    </tr>\n",
       "    <tr>\n",
       "      <th>1</th>\n",
       "      <td>1240.0</td>\n",
       "      <td>496.941452</td>\n",
       "      <td>110.574244</td>\n",
       "      <td>0.0</td>\n",
       "      <td>415.300</td>\n",
       "      <td>473.85</td>\n",
       "      <td>563.100</td>\n",
       "      <td>916.6</td>\n",
       "    </tr>\n",
       "    <tr>\n",
       "      <th>8</th>\n",
       "      <td>125.0</td>\n",
       "      <td>496.804800</td>\n",
       "      <td>101.675657</td>\n",
       "      <td>333.7</td>\n",
       "      <td>422.400</td>\n",
       "      <td>476.10</td>\n",
       "      <td>551.300</td>\n",
       "      <td>854.7</td>\n",
       "    </tr>\n",
       "    <tr>\n",
       "      <th>3</th>\n",
       "      <td>499.0</td>\n",
       "      <td>495.384569</td>\n",
       "      <td>104.527715</td>\n",
       "      <td>341.2</td>\n",
       "      <td>418.900</td>\n",
       "      <td>468.00</td>\n",
       "      <td>550.950</td>\n",
       "      <td>896.3</td>\n",
       "    </tr>\n",
       "    <tr>\n",
       "      <th>4</th>\n",
       "      <td>357.0</td>\n",
       "      <td>492.836134</td>\n",
       "      <td>104.521768</td>\n",
       "      <td>0.0</td>\n",
       "      <td>422.400</td>\n",
       "      <td>465.30</td>\n",
       "      <td>554.800</td>\n",
       "      <td>800.1</td>\n",
       "    </tr>\n",
       "    <tr>\n",
       "      <th>2</th>\n",
       "      <td>772.0</td>\n",
       "      <td>492.499741</td>\n",
       "      <td>106.310701</td>\n",
       "      <td>0.0</td>\n",
       "      <td>409.675</td>\n",
       "      <td>471.50</td>\n",
       "      <td>552.850</td>\n",
       "      <td>935.1</td>\n",
       "    </tr>\n",
       "    <tr>\n",
       "      <th>7</th>\n",
       "      <td>174.0</td>\n",
       "      <td>489.287356</td>\n",
       "      <td>102.860667</td>\n",
       "      <td>339.2</td>\n",
       "      <td>414.325</td>\n",
       "      <td>469.50</td>\n",
       "      <td>552.425</td>\n",
       "      <td>843.9</td>\n",
       "    </tr>\n",
       "    <tr>\n",
       "      <th>5</th>\n",
       "      <td>230.0</td>\n",
       "      <td>485.460870</td>\n",
       "      <td>98.686100</td>\n",
       "      <td>336.4</td>\n",
       "      <td>412.225</td>\n",
       "      <td>463.85</td>\n",
       "      <td>536.775</td>\n",
       "      <td>897.0</td>\n",
       "    </tr>\n",
       "    <tr>\n",
       "      <th>10</th>\n",
       "      <td>614.0</td>\n",
       "      <td>479.626710</td>\n",
       "      <td>94.093731</td>\n",
       "      <td>326.7</td>\n",
       "      <td>407.900</td>\n",
       "      <td>460.05</td>\n",
       "      <td>537.625</td>\n",
       "      <td>849.3</td>\n",
       "    </tr>\n",
       "    <tr>\n",
       "      <th>6</th>\n",
       "      <td>217.0</td>\n",
       "      <td>478.085714</td>\n",
       "      <td>90.718277</td>\n",
       "      <td>342.5</td>\n",
       "      <td>405.900</td>\n",
       "      <td>462.10</td>\n",
       "      <td>527.300</td>\n",
       "      <td>788.2</td>\n",
       "    </tr>\n",
       "    <tr>\n",
       "      <th>0</th>\n",
       "      <td>5762.0</td>\n",
       "      <td>476.121624</td>\n",
       "      <td>95.596742</td>\n",
       "      <td>0.0</td>\n",
       "      <td>406.425</td>\n",
       "      <td>456.40</td>\n",
       "      <td>528.075</td>\n",
       "      <td>952.0</td>\n",
       "    </tr>\n",
       "  </tbody>\n",
       "</table>\n",
       "</div>"
      ],
      "text/plain": [
       "                  count        mean         std    min      25%     50%  \\\n",
       "tp_ano_concluiu                                                           \n",
       "9                 107.0  497.251402  105.449912  342.5  409.550  482.10   \n",
       "1                1240.0  496.941452  110.574244    0.0  415.300  473.85   \n",
       "8                 125.0  496.804800  101.675657  333.7  422.400  476.10   \n",
       "3                 499.0  495.384569  104.527715  341.2  418.900  468.00   \n",
       "4                 357.0  492.836134  104.521768    0.0  422.400  465.30   \n",
       "2                 772.0  492.499741  106.310701    0.0  409.675  471.50   \n",
       "7                 174.0  489.287356  102.860667  339.2  414.325  469.50   \n",
       "5                 230.0  485.460870   98.686100  336.4  412.225  463.85   \n",
       "10                614.0  479.626710   94.093731  326.7  407.900  460.05   \n",
       "6                 217.0  478.085714   90.718277  342.5  405.900  462.10   \n",
       "0                5762.0  476.121624   95.596742    0.0  406.425  456.40   \n",
       "\n",
       "                     75%    max  \n",
       "tp_ano_concluiu                  \n",
       "9                569.750  843.0  \n",
       "1                563.100  916.6  \n",
       "8                551.300  854.7  \n",
       "3                550.950  896.3  \n",
       "4                554.800  800.1  \n",
       "2                552.850  935.1  \n",
       "7                552.425  843.9  \n",
       "5                536.775  897.0  \n",
       "10               537.625  849.3  \n",
       "6                527.300  788.2  \n",
       "0                528.075  952.0  "
      ]
     },
     "execution_count": 48,
     "metadata": {},
     "output_type": "execute_result"
    }
   ],
   "source": [
    "train_2.groupby('tp_ano_concluiu')['nu_nota_mt'].describe().sort_values(by= 'mean',ascending = False)"
   ]
  },
  {
   "cell_type": "markdown",
   "metadata": {},
   "source": [
    "## Conclusão #04\n",
    "Como mais da metados individuos não informaram o ano que concluiram o ensino médiao (valor zero no dataset) esta solução destahipótese fica prejudicada, sendo assim optei por asumir que não temos essa informação."
   ]
  },
  {
   "cell_type": "markdown",
   "metadata": {},
   "source": [
    "## 5 - Trabalhar influencia no resultado dos individuos?"
   ]
  },
  {
   "cell_type": "code",
   "execution_count": 49,
   "metadata": {},
   "outputs": [
    {
     "data": {
      "text/html": [
       "<div>\n",
       "<style scoped>\n",
       "    .dataframe tbody tr th:only-of-type {\n",
       "        vertical-align: middle;\n",
       "    }\n",
       "\n",
       "    .dataframe tbody tr th {\n",
       "        vertical-align: top;\n",
       "    }\n",
       "\n",
       "    .dataframe thead th {\n",
       "        text-align: right;\n",
       "    }\n",
       "</style>\n",
       "<table border=\"1\" class=\"dataframe\">\n",
       "  <thead>\n",
       "    <tr style=\"text-align: right;\">\n",
       "      <th></th>\n",
       "      <th>index</th>\n",
       "      <th>Total</th>\n",
       "      <th>%</th>\n",
       "    </tr>\n",
       "  </thead>\n",
       "  <tbody>\n",
       "    <tr>\n",
       "      <th>6</th>\n",
       "      <td>q027</td>\n",
       "      <td>6106</td>\n",
       "      <td>60.47</td>\n",
       "    </tr>\n",
       "    <tr>\n",
       "      <th>1</th>\n",
       "      <td>q028</td>\n",
       "      <td>6108</td>\n",
       "      <td>60.49</td>\n",
       "    </tr>\n",
       "    <tr>\n",
       "      <th>4</th>\n",
       "      <td>q029</td>\n",
       "      <td>6107</td>\n",
       "      <td>60.48</td>\n",
       "    </tr>\n",
       "    <tr>\n",
       "      <th>5</th>\n",
       "      <td>q030</td>\n",
       "      <td>6107</td>\n",
       "      <td>60.48</td>\n",
       "    </tr>\n",
       "    <tr>\n",
       "      <th>2</th>\n",
       "      <td>q031</td>\n",
       "      <td>6108</td>\n",
       "      <td>60.49</td>\n",
       "    </tr>\n",
       "    <tr>\n",
       "      <th>3</th>\n",
       "      <td>q032</td>\n",
       "      <td>6108</td>\n",
       "      <td>60.49</td>\n",
       "    </tr>\n",
       "    <tr>\n",
       "      <th>0</th>\n",
       "      <td>q033</td>\n",
       "      <td>6108</td>\n",
       "      <td>60.49</td>\n",
       "    </tr>\n",
       "  </tbody>\n",
       "</table>\n",
       "</div>"
      ],
      "text/plain": [
       "  index  Total      %\n",
       "6  q027   6106  60.47\n",
       "1  q028   6108  60.49\n",
       "4  q029   6107  60.48\n",
       "5  q030   6107  60.48\n",
       "2  q031   6108  60.49\n",
       "3  q032   6108  60.49\n",
       "0  q033   6108  60.49"
      ]
     },
     "execution_count": 49,
     "metadata": {},
     "output_type": "execute_result"
    }
   ],
   "source": [
    "# Lembrando que na fase de preprocessing optei por manter alguns dados faltantes  referentes ao formulários socioeconômico.\n",
    "# As questõese estão relacionadas a ter ou não uma atividade remunerada. \n",
    "missing_data_count(train_2).sort_values(by='index')"
   ]
  },
  {
   "cell_type": "markdown",
   "metadata": {},
   "source": [
    "A questão 26 indica se o individuo declarou exercer ou ter exercido alguma atividade remunerada.\n",
    " - A - Não, nunca trabalhei.\n",
    " - B - Sim, já trabalhei, mas não estou trabalhando.\n",
    " - C -Sim, estou trabalhando.\n"
   ]
  },
  {
   "cell_type": "code",
   "execution_count": 50,
   "metadata": {},
   "outputs": [
    {
     "data": {
      "text/plain": [
       "A    5998\n",
       "B    2191\n",
       "C    1908\n",
       "Name: q026, dtype: int64"
      ]
     },
     "execution_count": 50,
     "metadata": {},
     "output_type": "execute_result"
    }
   ],
   "source": [
    "train_2['q026'].value_counts(dropna=False)"
   ]
  },
  {
   "cell_type": "code",
   "execution_count": 51,
   "metadata": {},
   "outputs": [],
   "source": [
    "function5 = ''' nu_nota_mt ~ tp_sexo  +\n",
    "nu_idade +\n",
    "tp_cor_raca +\n",
    "tp_ano_concluiu +\n",
    "nu_nota_cn + \n",
    "nu_nota_ch + \n",
    "nu_nota_lc +\n",
    "nu_nota_redacao +\n",
    "co_uf_residencia +\n",
    "C(q026)\n",
    "\n",
    "'''"
   ]
  },
  {
   "cell_type": "code",
   "execution_count": 52,
   "metadata": {},
   "outputs": [
    {
     "name": "stdout",
     "output_type": "stream",
     "text": [
      "                  Results: Ordinary least squares\n",
      "====================================================================\n",
      "Model:              OLS              Adj. R-squared:     0.419      \n",
      "Dependent Variable: nu_nota_mt       AIC:                116112.6780\n",
      "Date:               2019-05-11 18:26 BIC:                116199.3180\n",
      "No. Observations:   10097            Log-Likelihood:     -58044.    \n",
      "Df Model:           11               F-statistic:        663.5      \n",
      "Df Residuals:       10085            Prob (F-statistic): 0.00       \n",
      "R-squared:          0.420            Scale:              5771.3     \n",
      "--------------------------------------------------------------------\n",
      "                      Coef.  Std.Err.    t    P>|t|   [0.025  0.975]\n",
      "--------------------------------------------------------------------\n",
      "Intercept            10.2887   8.2733  1.2436 0.2137 -5.9287 26.5060\n",
      "tp_sexo[T.M]         25.7604   1.6087 16.0131 0.0000 22.6070 28.9138\n",
      "C(q026)[T.B]          0.9066   2.1158  0.4285 0.6683 -3.2407  5.0540\n",
      "C(q026)[T.C]          0.5868   2.2837  0.2570 0.7972 -3.8897  5.0633\n",
      "nu_idade             -0.8268   0.1740 -4.7506 0.0000 -1.1680 -0.4857\n",
      "tp_cor_raca          -4.1155   0.7862 -5.2350 0.0000 -5.6565 -2.5745\n",
      "tp_ano_concluiu       0.8670   0.3850  2.2519 0.0244  0.1123  1.6217\n",
      "nu_nota_cn            0.4966   0.0141 35.1164 0.0000  0.4688  0.5243\n",
      "nu_nota_ch            0.2169   0.0161 13.4737 0.0000  0.1854  0.2485\n",
      "nu_nota_lc            0.2121   0.0161 13.1896 0.0000  0.1805  0.2436\n",
      "nu_nota_redacao       0.0337   0.0062  5.3907 0.0000  0.0214  0.0459\n",
      "co_uf_residencia      0.2913   0.0814  3.5767 0.0003  0.1316  0.4509\n",
      "--------------------------------------------------------------------\n",
      "Omnibus:               163.565       Durbin-Watson:          1.960  \n",
      "Prob(Omnibus):         0.000         Jarque-Bera (JB):       211.419\n",
      "Skew:                  0.226         Prob(JB):               0.000  \n",
      "Kurtosis:              3.546         Condition No.:          11371  \n",
      "====================================================================\n",
      "* The condition number is large (1e+04). This might indicate\n",
      "strong multicollinearity or other numerical problems.\n"
     ]
    }
   ],
   "source": [
    "model5 = smf.ols(function5, train_2).fit()\n",
    "print(model5.summary2())"
   ]
  },
  {
   "cell_type": "code",
   "execution_count": 53,
   "metadata": {},
   "outputs": [],
   "source": [
    "residuoM5 = pd.DataFrame(model5.resid, columns=['residuo'])"
   ]
  },
  {
   "cell_type": "code",
   "execution_count": 54,
   "metadata": {},
   "outputs": [
    {
     "data": {
      "image/png": "[encoded data removed]",
      "text/plain": [
       "<Figure size 720x144 with 1 Axes>"
      ]
     },
     "metadata": {
      "needs_background": "light"
     },
     "output_type": "display_data"
    }
   ],
   "source": [
    "# O residuo do modelo está ainda mais próximo de uma normal.\n",
    "\n",
    "sns.distplot(residuoM5['residuo'].fillna(0), fit=stats.norm);\n",
    "\n",
    "(mu, sigma) = stats.norm.fit(residuoM5['residuo'].fillna(0))\n",
    "plt.legend([f'Normal dist. ($\\mu=$ {round(mu,0)} and $\\sigma=$ {round(sigma,0)} )'],loc='best')\n",
    "plt.ylabel('Frequencia')\n",
    "plt.title('Distribuição do residuo Modelo 5')\n",
    "\n",
    "plt.show()"
   ]
  },
  {
   "cell_type": "markdown",
   "metadata": {},
   "source": [
    "### Conclusão preliminar\n",
    "O P-valor das variváveis categórias estão altos, acima da significancia esperada (alfa 5%) logo a princípio podemos desconsiderálos, mas optei por investigar melhor."
   ]
  },
  {
   "cell_type": "code",
   "execution_count": 55,
   "metadata": {},
   "outputs": [],
   "source": [
    "train_2 =  pd.concat([train_2, pd.get_dummies(train_2['q026'], prefix = 'q026')], axis=1)   "
   ]
  },
  {
   "cell_type": "code",
   "execution_count": 56,
   "metadata": {},
   "outputs": [],
   "source": [
    "function6 = ''' nu_nota_mt ~ tp_sexo  +\n",
    "nu_idade +\n",
    "tp_cor_raca +\n",
    "tp_ano_concluiu +\n",
    "nu_nota_cn + \n",
    "nu_nota_ch + \n",
    "nu_nota_lc +\n",
    "nu_nota_redacao +\n",
    "co_uf_residencia +\n",
    "q026_A +\n",
    "q026_B +\n",
    "q026_C \n",
    "\n",
    "'''"
   ]
  },
  {
   "cell_type": "code",
   "execution_count": 57,
   "metadata": {},
   "outputs": [
    {
     "name": "stdout",
     "output_type": "stream",
     "text": [
      "                  Results: Ordinary least squares\n",
      "====================================================================\n",
      "Model:              OLS              Adj. R-squared:     0.419      \n",
      "Dependent Variable: nu_nota_mt       AIC:                116112.6780\n",
      "Date:               2019-05-11 18:26 BIC:                116199.3180\n",
      "No. Observations:   10097            Log-Likelihood:     -58044.    \n",
      "Df Model:           11               F-statistic:        663.5      \n",
      "Df Residuals:       10085            Prob (F-statistic): 0.00       \n",
      "R-squared:          0.420            Scale:              5771.3     \n",
      "--------------------------------------------------------------------\n",
      "                      Coef.  Std.Err.    t    P>|t|   [0.025  0.975]\n",
      "--------------------------------------------------------------------\n",
      "Intercept             8.0899   6.3087  1.2823 0.1998 -4.2764 20.4562\n",
      "tp_sexo[T.M]         25.7604   1.6087 16.0131 0.0000 22.6070 28.9138\n",
      "nu_idade             -0.8268   0.1740 -4.7506 0.0000 -1.1680 -0.4857\n",
      "tp_cor_raca          -4.1155   0.7862 -5.2350 0.0000 -5.6565 -2.5745\n",
      "tp_ano_concluiu       0.8670   0.3850  2.2519 0.0244  0.1123  1.6217\n",
      "nu_nota_cn            0.4966   0.0141 35.1164 0.0000  0.4688  0.5243\n",
      "nu_nota_ch            0.2169   0.0161 13.4737 0.0000  0.1854  0.2485\n",
      "nu_nota_lc            0.2121   0.0161 13.1896 0.0000  0.1805  0.2436\n",
      "nu_nota_redacao       0.0337   0.0062  5.3907 0.0000  0.0214  0.0459\n",
      "co_uf_residencia      0.2913   0.0814  3.5767 0.0003  0.1316  0.4509\n",
      "q026_A                2.1988   2.2327  0.9848 0.3247 -2.1777  6.5753\n",
      "q026_B                3.1054   2.5633  1.2115 0.2257 -1.9191  8.1300\n",
      "q026_C                2.7856   2.6164  1.0647 0.2870 -2.3430  7.9143\n",
      "--------------------------------------------------------------------\n",
      "Omnibus:           163.565   Durbin-Watson:      1.960              \n",
      "Prob(Omnibus):     0.000     Jarque-Bera (JB):   211.419            \n",
      "Skew:              0.226     Prob(JB):           0.000              \n",
      "Kurtosis:          3.546     Condition No.:      4131657820921799680\n",
      "====================================================================\n",
      "* The condition number is large (4e+18). This might indicate\n",
      "strong multicollinearity or other numerical problems.\n"
     ]
    }
   ],
   "source": [
    "model6 = smf.ols(function6, train_2).fit()\n",
    "print(model6.summary2())"
   ]
  },
  {
   "cell_type": "code",
   "execution_count": 58,
   "metadata": {},
   "outputs": [],
   "source": [
    "residuoM6 = pd.DataFrame(model6.resid, columns=['residuo'])"
   ]
  },
  {
   "cell_type": "code",
   "execution_count": 59,
   "metadata": {},
   "outputs": [
    {
     "data": {
      "image/png": "[encoded data removed]",
      "text/plain": [
       "<Figure size 720x144 with 1 Axes>"
      ]
     },
     "metadata": {
      "needs_background": "light"
     },
     "output_type": "display_data"
    }
   ],
   "source": [
    "# O residuo do modelo está ainda mais próximo de uma normal.\n",
    "\n",
    "sns.distplot(residuoM6['residuo'].fillna(0), fit=stats.norm);\n",
    "\n",
    "(mu, sigma) = stats.norm.fit(residuoM6['residuo'].fillna(0))\n",
    "plt.legend([f'Normal dist. ($\\mu=$ {round(mu,0)} and $\\sigma=$ {round(sigma,0)} )'],loc='best')\n",
    "plt.ylabel('Frequencia')\n",
    "plt.title('Distribuição do residuo Modelo 6')\n",
    "\n",
    "plt.show()"
   ]
  },
  {
   "cell_type": "markdown",
   "metadata": {},
   "source": [
    "Os P-valores permanecem altos, mesmo isolando as categorias. "
   ]
  },
  {
   "cell_type": "code",
   "execution_count": 60,
   "metadata": {},
   "outputs": [],
   "source": [
    "# Para avançar e ter uma confirmação final sobrer as o trabaho influenciar ou não a nota de matemática vou dividir em dois grupos\n",
    "# Trabalharam ou não trabalham.\n",
    "train_2['jaTrabahou'] = np.where(train_2['q026']== 'A', 0, 1)"
   ]
  },
  {
   "cell_type": "code",
   "execution_count": 61,
   "metadata": {},
   "outputs": [
    {
     "data": {
      "text/plain": [
       "0    5998\n",
       "1    4099\n",
       "Name: jaTrabahou, dtype: int64"
      ]
     },
     "execution_count": 61,
     "metadata": {},
     "output_type": "execute_result"
    }
   ],
   "source": [
    "train_2['jaTrabahou'].value_counts()"
   ]
  },
  {
   "cell_type": "code",
   "execution_count": 62,
   "metadata": {},
   "outputs": [],
   "source": [
    "function7 = ''' nu_nota_mt ~ tp_sexo  +\n",
    "nu_idade +\n",
    "tp_cor_raca +\n",
    "tp_ano_concluiu +\n",
    "nu_nota_cn + \n",
    "nu_nota_ch + \n",
    "nu_nota_lc +\n",
    "nu_nota_redacao +\n",
    "co_uf_residencia +\n",
    "jaTrabahou\n",
    "\n",
    "'''"
   ]
  },
  {
   "cell_type": "code",
   "execution_count": 63,
   "metadata": {},
   "outputs": [
    {
     "name": "stdout",
     "output_type": "stream",
     "text": [
      "                  Results: Ordinary least squares\n",
      "====================================================================\n",
      "Model:              OLS              Adj. R-squared:     0.419      \n",
      "Dependent Variable: nu_nota_mt       AIC:                116110.6960\n",
      "Date:               2019-05-11 18:26 BIC:                116190.1159\n",
      "No. Observations:   10097            Log-Likelihood:     -58044.    \n",
      "Df Model:           10               F-statistic:        729.9      \n",
      "Df Residuals:       10086            Prob (F-statistic): 0.00       \n",
      "R-squared:          0.420            Scale:              5770.8     \n",
      "--------------------------------------------------------------------\n",
      "                      Coef.  Std.Err.    t    P>|t|   [0.025  0.975]\n",
      "--------------------------------------------------------------------\n",
      "Intercept            10.2781   8.2725  1.2424 0.2141 -5.9377 26.4939\n",
      "tp_sexo[T.M]         25.7546   1.6081 16.0160 0.0000 22.6025 28.9068\n",
      "nu_idade             -0.8266   0.1740 -4.7497 0.0000 -1.1677 -0.4854\n",
      "tp_cor_raca          -4.1160   0.7861 -5.2359 0.0000 -5.6569 -2.5751\n",
      "tp_ano_concluiu       0.8638   0.3843  2.2480 0.0246  0.1106  1.6171\n",
      "nu_nota_cn            0.4966   0.0141 35.1342 0.0000  0.4689  0.5243\n",
      "nu_nota_ch            0.2170   0.0161 13.4799 0.0000  0.1854  0.2485\n",
      "nu_nota_lc            0.2120   0.0161 13.1895 0.0000  0.1805  0.2435\n",
      "nu_nota_redacao       0.0336   0.0062  5.3901 0.0000  0.0214  0.0459\n",
      "co_uf_residencia      0.2906   0.0813  3.5755 0.0004  0.1313  0.4499\n",
      "jaTrabahou            0.7674   1.8423  0.4166 0.6770 -2.8438  4.3787\n",
      "--------------------------------------------------------------------\n",
      "Omnibus:               163.640       Durbin-Watson:          1.960  \n",
      "Prob(Omnibus):         0.000         Jarque-Bera (JB):       211.581\n",
      "Skew:                  0.226         Prob(JB):               0.000  \n",
      "Kurtosis:              3.546         Condition No.:          11370  \n",
      "====================================================================\n",
      "* The condition number is large (1e+04). This might indicate\n",
      "strong multicollinearity or other numerical problems.\n"
     ]
    }
   ],
   "source": [
    "model7 = smf.ols(function7, train_2).fit()\n",
    "print(model7.summary2())"
   ]
  },
  {
   "cell_type": "code",
   "execution_count": 64,
   "metadata": {},
   "outputs": [],
   "source": [
    "residuoM7 = pd.DataFrame(model7.resid, columns=['residuo'])"
   ]
  },
  {
   "cell_type": "code",
   "execution_count": 65,
   "metadata": {},
   "outputs": [
    {
     "data": {
      "image/png": "[encoded data removed]",
      "text/plain": [
       "<Figure size 720x144 with 1 Axes>"
      ]
     },
     "metadata": {
      "needs_background": "light"
     },
     "output_type": "display_data"
    }
   ],
   "source": [
    "# O residuo do modelo está ainda mais próximo de uma normal.\n",
    "\n",
    "sns.distplot(residuoM7['residuo'].fillna(0), fit=stats.norm);\n",
    "\n",
    "(mu, sigma) = stats.norm.fit(residuoM7['residuo'].fillna(0))\n",
    "plt.legend([f'Normal dist. ($\\mu=$ {round(mu,0)} and $\\sigma=$ {round(sigma,0)} )'],loc='best')\n",
    "plt.ylabel('Frequencia')\n",
    "plt.title('Distribuição do residuo Modelo 7')\n",
    "\n",
    "plt.show()"
   ]
  },
  {
   "cell_type": "markdown",
   "metadata": {},
   "source": [
    "## Conclusão #5\n",
    "Não trabalhar, ter trabalhado ou estar trabalhando não faz diferença para nota de matemática, levando em consideração análise apenas desta variváveis do quesionário socioecônomico."
   ]
  },
  {
   "cell_type": "markdown",
   "metadata": {},
   "source": [
    "## 6 - Quanto o questionário socioeconômico explica as notas dos individuos? E quais as features mais significativas?"
   ]
  },
  {
   "cell_type": "code",
   "execution_count": 99,
   "metadata": {},
   "outputs": [],
   "source": [
    "# Para análise vou transformar todas respostas em opções numéricas."
   ]
  },
  {
   "cell_type": "code",
   "execution_count": 87,
   "metadata": {},
   "outputs": [],
   "source": [
    "train_3 = train_2"
   ]
  },
  {
   "cell_type": "code",
   "execution_count": 88,
   "metadata": {},
   "outputs": [],
   "source": [
    "dict = {'A':1,'B':2,'C':3,'D':4,'E':5,'F':6,'G':7,'H':8,'I':9,'J':10,'K':11,'L':12,'M':13,'N':14,'O':15,'P':16,'Q':17}"
   ]
  },
  {
   "cell_type": "code",
   "execution_count": 115,
   "metadata": {},
   "outputs": [],
   "source": [
    "# Selecionei apenas as questões que tinham como respostas letras, com excessão a questão 26 porque ela será tratata de forma diferente.\n",
    "# Também remo vi as questões de 27 a 33 por estarem relacionadas a questão 26.\n",
    "\n",
    "numeric_questions = train_3[['q001', 'q002', 'q003', 'q004', 'q006', 'q007', 'q008', 'q009', 'q010', 'q011', 'q012',\n",
    "         'q013', 'q014', 'q015', 'q016', 'q017', 'q018', 'q019', 'q020', 'q021', 'q022', 'q023',\n",
    "         'q024', 'q025','q042', 'q043', 'q044', 'q045', 'q046', 'q047', 'q048', 'q049', 'q050']].applymap(lambda x: dict[x])\n",
    "numeric_questions.rename(str.upper, axis='columns', inplace=True)"
   ]
  },
  {
   "cell_type": "code",
   "execution_count": 116,
   "metadata": {},
   "outputs": [],
   "source": [
    "train_4 = pd.concat([train_3, numeric_questions], axis=1)"
   ]
  },
  {
   "cell_type": "code",
   "execution_count": 133,
   "metadata": {},
   "outputs": [],
   "source": [
    "function8 = ''' nu_nota_mt ~ tp_sexo  +\n",
    "nu_idade +\n",
    "tp_cor_raca +\n",
    "tp_ano_concluiu +\n",
    "nu_nota_cn + \n",
    "nu_nota_ch + \n",
    "nu_nota_lc +\n",
    "nu_nota_redacao +\n",
    "co_uf_residencia +\n",
    "jaTrabahou +\n",
    "Q001+\n",
    "Q002+\n",
    "Q003+\n",
    "Q004+\n",
    "q005+\n",
    "Q006+\n",
    "Q007+\n",
    "Q008+\n",
    "Q009+\n",
    "Q010+\n",
    "Q011+\n",
    "Q012+\n",
    "Q013+\n",
    "Q014+\n",
    "Q015+\n",
    "Q016+\n",
    "Q017+\n",
    "Q018+\n",
    "Q019+\n",
    "Q020+\n",
    "Q021+\n",
    "Q022+\n",
    "Q023+\n",
    "Q024+\n",
    "Q025+\n",
    "C(q026)+\n",
    "q034+\n",
    "q035+\n",
    "q036+\n",
    "q037+\n",
    "q038+\n",
    "q039+\n",
    "q040+\n",
    "Q042+\n",
    "Q043+\n",
    "Q044+\n",
    "Q045+\n",
    "Q046+\n",
    "Q047+\n",
    "Q048+\n",
    "Q049+\n",
    "Q050\n",
    "\n",
    "'''"
   ]
  },
  {
   "cell_type": "code",
   "execution_count": 143,
   "metadata": {},
   "outputs": [
    {
     "name": "stdout",
     "output_type": "stream",
     "text": [
      "                  Results: Ordinary least squares\n",
      "====================================================================\n",
      "Model:              OLS              Adj. R-squared:     0.447      \n",
      "Dependent Variable: nu_nota_mt       AIC:                115655.7151\n",
      "Date:               2019-05-11 19:21 BIC:                116038.3748\n",
      "No. Observations:   10097            Log-Likelihood:     -57775.    \n",
      "Df Model:           52               F-statistic:        158.0      \n",
      "Df Residuals:       10044            Prob (F-statistic): 0.00       \n",
      "R-squared:          0.450            Scale:              5493.7     \n",
      "--------------------------------------------------------------------\n",
      "                      Coef.  Std.Err.    t    P>|t|   [0.025  0.975]\n",
      "--------------------------------------------------------------------\n",
      "Intercept            61.0559  14.1599  4.3119 0.0000 33.2997 88.8121\n",
      "tp_sexo[T.M]         24.3354   1.5849 15.3542 0.0000 21.2286 27.4422\n",
      "C(q026)[T.B]          2.7634   1.2994  2.1267 0.0335  0.2163  5.3104\n",
      "C(q026)[T.C]          0.0811   1.3858  0.0585 0.9533 -2.6353  2.7976\n",
      "nu_idade             -0.6186   0.1998 -3.0969 0.0020 -1.0102 -0.2271\n",
      "tp_cor_raca          -1.1926   0.7876 -1.5144 0.1300 -2.7364  0.3511\n",
      "tp_ano_concluiu       0.4760   0.4569  1.0418 0.2975 -0.4196  1.3716\n",
      "nu_nota_cn            0.4154   0.0144 28.9193 0.0000  0.3872  0.4435\n",
      "nu_nota_ch            0.1836   0.0158 11.5949 0.0000  0.1526  0.2146\n",
      "nu_nota_lc            0.1799   0.0159 11.3386 0.0000  0.1488  0.2110\n",
      "nu_nota_redacao       0.0191   0.0062  3.0903 0.0020  0.0070  0.0311\n",
      "co_uf_residencia      0.0027   0.0859  0.0312 0.9751 -0.1656  0.1710\n",
      "jaTrabahou            2.8445   1.2792  2.2237 0.0262  0.3371  5.3519\n",
      "Q001                  0.4332   0.4734  0.9153 0.3601 -0.4946  1.3611\n",
      "Q002                  0.6266   0.5417  1.1567 0.2474 -0.4353  1.6885\n",
      "Q003                 -0.1950   0.5855 -0.3331 0.7390 -1.3427  0.9527\n",
      "Q004                  0.4811   0.6043  0.7962 0.4259 -0.7033  1.6656\n",
      "q005                 -0.0370   0.5128 -0.0722 0.9424 -1.0423  0.9682\n",
      "Q006                  2.5983   0.4219  6.1585 0.0000  1.7713  3.4253\n",
      "Q007                  5.2270   1.8073  2.8921 0.0038  1.6843  8.7697\n",
      "Q008                  1.9777   1.5804  1.2514 0.2108 -1.1203  5.0757\n",
      "Q009                 -0.5954   1.1757 -0.5064 0.6126 -2.8999  1.7091\n",
      "Q010                  1.0260   1.5657  0.6553 0.5123 -2.0432  4.0952\n",
      "Q011                  0.8389   1.5209  0.5516 0.5813 -2.1425  3.8202\n",
      "Q012                 -2.8232   3.1142 -0.9066 0.3647 -8.9277  3.2813\n",
      "Q013                  1.8164   1.6700  1.0876 0.2768 -1.4572  5.0900\n",
      "Q014                  1.7470   1.7752  0.9841 0.3251 -1.7329  5.2268\n",
      "Q015                  1.3658   2.4233  0.5636 0.5730 -3.3843  6.1160\n",
      "Q016                  2.0698   1.8073  1.1453 0.2521 -1.4728  5.6124\n",
      "Q017                 10.5466   4.7473  2.2216 0.0263  1.2410 19.8522\n",
      "Q018                  3.1669   2.4763  1.2789 0.2010 -1.6870  8.0209\n",
      "Q019                 -2.1445   1.3316 -1.6104 0.1073 -4.7547  0.4657\n",
      "Q020                 -2.8355   1.5686 -1.8076 0.0707 -5.9102  0.2393\n",
      "Q021                  0.2758   2.0943  0.1317 0.8952 -3.8294  4.3811\n",
      "Q022                 -0.2118   0.8690 -0.2437 0.8075 -1.9152  1.4917\n",
      "Q023                  0.6245   1.9129  0.3265 0.7441 -3.1252  4.3741\n",
      "Q024                  2.7366   1.3881  1.9715 0.0487  0.0157  5.4575\n",
      "Q025                  1.6321   1.9580  0.8336 0.4046 -2.2059  5.4701\n",
      "q034                 -3.2934   0.8762 -3.7589 0.0002 -5.0109 -1.5759\n",
      "q035                  4.0872   0.9505  4.3003 0.0000  2.2241  5.9503\n",
      "q036                 -1.6068   0.4906 -3.2752 0.0011 -2.5685 -0.6451\n",
      "q037                 -3.1746   0.7806 -4.0671 0.0000 -4.7046 -1.6445\n",
      "q038                 -0.9686   0.5530 -1.7516 0.0799 -2.0525  0.1153\n",
      "q039                  1.3339   0.5002  2.6667 0.0077  0.3534  2.3144\n",
      "q040                 -0.3603   0.6902 -0.5221 0.6016 -1.7133  0.9926\n",
      "Q042                  1.0524   1.1265  0.9342 0.3502 -1.1558  3.2607\n",
      "Q043                 -3.0740   2.2012 -1.3965 0.1626 -7.3889  1.2408\n",
      "Q044                 -0.5127   2.3980 -0.2138 0.8307 -5.2133  4.1878\n",
      "Q045                 -4.5624   1.4164 -3.2211 0.0013 -7.3389 -1.7860\n",
      "Q046                 -1.2078   1.1354 -1.0637 0.2875 -3.4335  1.0179\n",
      "Q047                  4.3824   0.9353  4.6857 0.0000  2.5491  6.2158\n",
      "Q048                  2.0935   1.3606  1.5386 0.1239 -0.5736  4.7607\n",
      "Q049                  0.3479   1.3280  0.2620 0.7933 -2.2552  2.9511\n",
      "Q050                  0.9620   1.2716  0.7565 0.4494 -1.5306  3.4546\n",
      "--------------------------------------------------------------------\n",
      "Omnibus:          139.557    Durbin-Watson:       1.969             \n",
      "Prob(Omnibus):    0.000      Jarque-Bera (JB):    199.651           \n",
      "Skew:             0.168      Prob(JB):            0.000             \n",
      "Kurtosis:         3.601      Condition No.:       282984115205729088\n",
      "====================================================================\n",
      "* The condition number is large (3e+17). This might indicate\n",
      "strong multicollinearity or other numerical problems.\n"
     ]
    }
   ],
   "source": [
    "model8 = smf.ols(function8, train_4).fit()\n",
    "print(model8.summary2())"
   ]
  },
  {
   "cell_type": "code",
   "execution_count": 144,
   "metadata": {},
   "outputs": [],
   "source": [
    "residuoM8 = pd.DataFrame(model8.resid, columns=['residuo'])"
   ]
  },
  {
   "cell_type": "code",
   "execution_count": 145,
   "metadata": {},
   "outputs": [
    {
     "data": {
      "image/png": "[encoded data removed]",
      "text/plain": [
       "<Figure size 720x144 with 1 Axes>"
      ]
     },
     "metadata": {
      "needs_background": "light"
     },
     "output_type": "display_data"
    }
   ],
   "source": [
    "# O residuo do modelo está ainda mais próximo de uma normal.\n",
    "\n",
    "sns.distplot(residuoM8['residuo'].fillna(0), fit=stats.norm);\n",
    "\n",
    "(mu, sigma) = stats.norm.fit(residuoM8['residuo'].fillna(0))\n",
    "plt.legend([f'Normal dist. ($\\mu=$ {round(mu,0)} and $\\sigma=$ {round(sigma,0)} )'],loc='best')\n",
    "plt.ylabel('Frequencia')\n",
    "plt.title('Distribuição do residuo Modelo 8')\n",
    "\n",
    "plt.show()"
   ]
  },
  {
   "cell_type": "markdown",
   "metadata": {},
   "source": [
    "### Análise preliminar\n",
    "As questões: 6, 7, 17, 34, 35, 36, 37, 39, 45, 47 são as questões com maior impacto real na explicação da nota de matemática.\n",
    "Todas tem p-valores \"comportados\" dentro do alfa de 0,05."
   ]
  },
  {
   "cell_type": "code",
   "execution_count": 154,
   "metadata": {},
   "outputs": [],
   "source": [
    "## Agora vamos seguir com uma análise mais profunda dos itens.\n",
    "function9 = ''' nu_nota_mt ~ tp_sexo  +\n",
    "nu_idade +\n",
    "tp_cor_raca +\n",
    "nu_nota_cn + \n",
    "nu_nota_ch + \n",
    "nu_nota_lc +\n",
    "nu_nota_redacao +\n",
    "jaTrabahou +\n",
    "Q006+\n",
    "Q007+\n",
    "Q017+\n",
    "q034+\n",
    "q035+\n",
    "q036+\n",
    "q037+\n",
    "q039+\n",
    "Q045+\n",
    "Q047\n",
    "\n",
    "'''"
   ]
  },
  {
   "cell_type": "code",
   "execution_count": 155,
   "metadata": {},
   "outputs": [
    {
     "name": "stdout",
     "output_type": "stream",
     "text": [
      "                  Results: Ordinary least squares\n",
      "====================================================================\n",
      "Model:              OLS              Adj. R-squared:     0.446      \n",
      "Dependent Variable: nu_nota_mt       AIC:                115642.2046\n",
      "Date:               2019-05-11 19:29 BIC:                115779.3845\n",
      "No. Observations:   10097            Log-Likelihood:     -57802.    \n",
      "Df Model:           18               F-statistic:        452.6      \n",
      "Df Residuals:       10078            Prob (F-statistic): 0.00       \n",
      "R-squared:          0.447            Scale:              5504.8     \n",
      "---------------------------------------------------------------------\n",
      "                  Coef.   Std.Err.     t     P>|t|    [0.025   0.975]\n",
      "---------------------------------------------------------------------\n",
      "Intercept        59.0651   10.9830   5.3778  0.0000  37.5362  80.5941\n",
      "tp_sexo[T.M]     24.5104    1.5732  15.5799  0.0000  21.4266  27.5942\n",
      "nu_idade         -0.4975    0.1385  -3.5912  0.0003  -0.7691  -0.2260\n",
      "tp_cor_raca      -1.7342    0.7657  -2.2650  0.0235  -3.2351  -0.2333\n",
      "nu_nota_cn        0.4220    0.0143  29.5824  0.0000   0.3940   0.4499\n",
      "nu_nota_ch        0.1892    0.0158  11.9982  0.0000   0.1583   0.2201\n",
      "nu_nota_lc        0.1878    0.0158  11.9174  0.0000   0.1569   0.2186\n",
      "nu_nota_redacao   0.0211    0.0061   3.4330  0.0006   0.0090   0.0331\n",
      "jaTrabahou        6.4046    1.7460   3.6682  0.0002   2.9822   9.8271\n",
      "Q006              3.6107    0.3342  10.8032  0.0000   2.9556   4.2659\n",
      "Q007              5.1388    1.7679   2.9068  0.0037   1.6735   8.6042\n",
      "Q017             12.4506    4.6774   2.6619  0.0078   3.2820  21.6192\n",
      "q034             -3.6854    0.8652  -4.2597  0.0000  -5.3813  -1.9895\n",
      "q035              3.9650    0.9435   4.2023  0.0000   2.1155   5.8144\n",
      "q036             -1.7058    0.4793  -3.5591  0.0004  -2.6453  -0.7663\n",
      "q037             -3.7754    0.7278  -5.1873  0.0000  -5.2020  -2.3487\n",
      "q039              0.9578    0.4708   2.0345  0.0419   0.0350   1.8807\n",
      "Q045             -4.9860    1.2727  -3.9175  0.0001  -7.4808  -2.4912\n",
      "Q047              5.2776    0.8187   6.4466  0.0000   3.6728   6.8823\n",
      "--------------------------------------------------------------------\n",
      "Omnibus:               146.121       Durbin-Watson:          1.968  \n",
      "Prob(Omnibus):         0.000         Jarque-Bera (JB):       206.737\n",
      "Skew:                  0.179         Prob(JB):               0.000  \n",
      "Kurtosis:              3.603         Condition No.:          15747  \n",
      "====================================================================\n",
      "* The condition number is large (2e+04). This might indicate\n",
      "strong multicollinearity or other numerical problems.\n"
     ]
    }
   ],
   "source": [
    "model9 = smf.ols(function9, train_4).fit()\n",
    "print(model9.summary2())"
   ]
  },
  {
   "cell_type": "code",
   "execution_count": 152,
   "metadata": {},
   "outputs": [],
   "source": [
    "residuoM9 = pd.DataFrame(model9.resid, columns=['residuo'])"
   ]
  },
  {
   "cell_type": "code",
   "execution_count": 153,
   "metadata": {},
   "outputs": [
    {
     "data": {
      "image/png": "[encoded data removed]",
      "text/plain": [
       "<Figure size 720x144 with 1 Axes>"
      ]
     },
     "metadata": {
      "needs_background": "light"
     },
     "output_type": "display_data"
    }
   ],
   "source": [
    "sns.distplot(residuoM9['residuo'].fillna(0), fit=stats.norm);\n",
    "\n",
    "(mu, sigma) = stats.norm.fit(residuoM9['residuo'].fillna(0))\n",
    "plt.legend([f'Normal dist. ($\\mu=$ {round(mu,0)} and $\\sigma=$ {round(sigma,0)} )'],loc='best')\n",
    "plt.ylabel('Frequencia')\n",
    "plt.title('Distribuição do residuo Modelo 9')\n",
    "\n",
    "plt.show()"
   ]
  },
  {
   "cell_type": "markdown",
   "metadata": {},
   "source": [
    "## Conclusão #5\n",
    "Apesar de considerar que ainda é possível melhorar a análise, acredito que já seja suficiente para responder a pergunta nesta estapa. <br>\n",
    "O questionário socioeconomico explica quase pelo menos 40% da nota de matemática as questões mais relevantes são: 6, 7, 17, 34, 35, 36, 37, 39, 45, 47<br>\n",
    "Com um destaque para questão 17 \"Na sua residência tem máquina de lavar louça?\"  Onde as respostas possíveis são:\n",
    "Não. Sim, uma. Sim, duas. Sim, três. Sim, quatro ou mais.  Acredito que seja seguro dizer que está questão é um proxy para renda, mesmo tendo uma questão para renda. "
   ]
  },
  {
   "cell_type": "code",
   "execution_count": null,
   "metadata": {},
   "outputs": [],
   "source": []
  }
 ],
 "metadata": {
  "kernelspec": {
   "display_name": "Python 3",
   "language": "python",
   "name": "python3"
  },
  "language_info": {
   "codemirror_mode": {
    "name": "ipython",
    "version": 3
   },
   "file_extension": ".py",
   "mimetype": "text/x-python",
   "name": "python",
   "nbconvert_exporter": "python",
   "pygments_lexer": "ipython3",
   "version": "3.7.1"
  }
 },
 "nbformat": 4,
 "nbformat_minor": 2
}
